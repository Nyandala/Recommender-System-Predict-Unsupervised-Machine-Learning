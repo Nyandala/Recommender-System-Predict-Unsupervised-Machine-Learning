{
  "nbformat": 4,
  "nbformat_minor": 0,
  "metadata": {
    "kernelspec": {
      "name": "python3",
      "display_name": "Python 3",
      "language": "python"
    },
    "language_info": {
      "name": "python",
      "version": "3.7.6",
      "mimetype": "text/x-python",
      "codemirror_mode": {
        "name": "ipython",
        "version": 3
      },
      "pygments_lexer": "ipython3",
      "nbconvert_exporter": "python",
      "file_extension": ".py"
    },
    "colab": {
      "name": "Recommender System_Unsupervised ML.ipynb",
      "provenance": [],
      "include_colab_link": true
    }
  },
  "cells": [
    {
      "cell_type": "markdown",
      "metadata": {
        "id": "view-in-github",
        "colab_type": "text"
      },
      "source": [
        "<a href=\"https://colab.research.google.com/github/Nyandala/Recommender-System-Predict-Unsupervised-Machine-Learning/blob/main/Recommender_System_Unsupervised_ML.ipynb\" target=\"_parent\"><img src=\"https://colab.research.google.com/assets/colab-badge.svg\" alt=\"Open In Colab\"/></a>"
      ]
    },
    {
      "cell_type": "markdown",
      "metadata": {
        "id": "GAfbIquprwaX"
      },
      "source": [
        "# EDSA Team TS3_JHB: Unsupervised Machine Learning Predict\n",
        "## Recommender system\n",
        "\n",
        "![inbox_2205222_bca114f2e4f6b9b46f2cc76527d7401e_Image_header.png](attachment:inbox_2205222_bca114f2e4f6b9b46f2cc76527d7401e_Image_header.png)"
      ]
    },
    {
      "cell_type": "markdown",
      "metadata": {
        "id": "brx2_80GrwaZ"
      },
      "source": [
        "# Table of contents\n",
        "\n",
        "### [1. Introduction](#introduction)\n",
        "1.1. Project overview\n",
        "\n",
        "1.2. Problem statement\n",
        "\n",
        "\n",
        "### [2. Start Comet experiment](#scomet)\n",
        "### [3. Package and module imports](#pack)\n",
        "### [4. Load data](#load)\n",
        "### [5. Description of the data](#dod)\n",
        "### [6. Data pre-processing](#cleaning)\n",
        "\n",
        "\n",
        "### [7. Exploratory Data Analysis](#eda)\n",
        "\n",
        "### [8. Feature engineering](#pp)\n",
        "\n",
        "\n",
        "\n",
        "### [9. Modelling](#mod)\n",
        "### [10. Model evaluation](#me)\n",
        "### [11. Conclusion](#conc)\n",
        "### [12. End Comet experiment](#ecomet)"
      ]
    },
    {
      "cell_type": "markdown",
      "metadata": {
        "id": "o1juYmlgrwaZ"
      },
      "source": [
        "> <a id=\"introduction\"></a>\n",
        "# 1. Introduction\n",
        "\n",
        "## 1.1. Project overview\n",
        "Machine Learning (ML) is a subset of Artificial Intelligence (AI), dating as far back as 1959, where computers are trained to pick up patterns and make decisions with little to no human interference. There are two main types, supervised and unsupervised learning. Supervised ML algorithms are far more flexible as the datasets used do not provide label values, the computer uses trends in the data to compute results. They can be used to build recommender systems.\n",
        "\n",
        "A recommender system is an engine or platform that can predict certain choices based on responses provided by users. A great example would be a system on a streaming platform that recommends a movie or show for a user to watch found on their previous viewings or the viewings of other users that have watching habits similar to theirs. With the increasing use of web services such as Netflix, Showmax and YouTube amongst many, there is an unfathomable amount of content available. It would be a tedious task for a user to search through it all for things that they would enjoy watching. They are also used in other services such as online shoppping stores and networking spaces like LinkedIn.\n",
        "\n",
        "A recommender system enhances a user's experience as the luxury of recommendations will save the user the time and effort of having to search through a large catalogue. This allows for the user to also be exposed to new content, creating an opportunity for further streaming because they interact with content that is meaningful and desireable to them. In fact, most companies make a bulk of their revenue from recommendations. The rating functionality also assists in collecting data that can help the streaming platform establish trends and gather insights from what their users are consuming. This can assist in better content selection and marketing. \n",
        "\n",
        "\n",
        "\n",
        "## 1.2. Problem statement\n",
        "Build a recommendation algorithm  that will use a user's historical preferences to accurately predict the rating that they will give a movie that they have not watched."
      ]
    },
    {
      "cell_type": "markdown",
      "metadata": {
        "id": "anwkNw2vrwaa"
      },
      "source": [
        "<a id=\"scomet\"></a>\n",
        "# 2. Start Comet Experiment"
      ]
    },
    {
      "cell_type": "markdown",
      "metadata": {
        "id": "2UXKoOFbrwaa"
      },
      "source": [
        "Comet is a powerful version control, cloud-based platform that is essential for project management. It allows teams to save all their models and associated (hyper)parameters used during a project. All of the models are logged as Comet experiments for sakekeeping, reproducibility and comparison."
      ]
    },
    {
      "cell_type": "code",
      "metadata": {
        "trusted": true,
        "id": "AEILIZ-srwaa"
      },
      "source": [
        "# Install Comet\n",
        "#!pip install comet_ml"
      ],
      "execution_count": null,
      "outputs": []
    },
    {
      "cell_type": "code",
      "metadata": {
        "trusted": true,
        "id": "yJfw_Myurwac"
      },
      "source": [
        "# Import Experiment Class\n",
        "#from comet_ml import Experiment\n",
        "    \n",
        "# Start experiment\n",
        "#experiment = Experiment(api_key=\"IM4g9SQgltH0xoH1UmTZArKIV\",\n",
        "                        #project_name=\"unsupervised-predict-ts3\", workspace=\"team-ts3-jhb\")"
      ],
      "execution_count": null,
      "outputs": []
    },
    {
      "cell_type": "code",
      "metadata": {
        "trusted": true,
        "id": "f3SDiMtbrwad"
      },
      "source": [
        "# Set a new experiment name for each run\n",
        "#experiment.set_name('xxxx')"
      ],
      "execution_count": null,
      "outputs": []
    },
    {
      "cell_type": "markdown",
      "metadata": {
        "id": "NRHy5iB7rwad"
      },
      "source": [
        "<a id=\"pack\"></a>\n",
        "# 3. Package and module imports"
      ]
    },
    {
      "cell_type": "code",
      "metadata": {
        "_uuid": "8f2839f25d086af736a60e9eeb907d3b93b6e0e5",
        "_cell_guid": "b1076dfc-b9ad-4769-8c92-a6c4dae69d19",
        "trusted": true,
        "id": "57-jpZoErwad",
        "outputId": "b58a8ef9-5144-4f03-e65e-c8320b93a8ab"
      },
      "source": [
        "import numpy as np  \n",
        "import pandas as pd  \n",
        "import seaborn as sns\n",
        "import matplotlib.pyplot as plt\n",
        "import datetime\n",
        "import scipy as sp\n",
        "from sklearn.metrics.pairwise import cosine_similarity\n",
        "from sklearn.feature_extraction.text import TfidfVectorizer\n",
        "import operator  \n",
        "import heapq\n",
        "from surprise import Dataset\n",
        "from surprise import Reader\n",
        "from surprise import accuracy\n",
        "from surprise.model_selection import train_test_split\n",
        "\n",
        "from surprise import SVD, BaselineOnly, CoClustering, NMF\n",
        "\n",
        "import os\n",
        "for dirname, _, filenames in os.walk('/kaggle/input'):\n",
        "    for filename in filenames:\n",
        "        print(os.path.join(dirname, filename))\n"
      ],
      "execution_count": null,
      "outputs": [
        {
          "output_type": "stream",
          "text": [
            "/kaggle/input/edsa-recommender-system-predict/links.csv\n",
            "/kaggle/input/edsa-recommender-system-predict/train.csv\n",
            "/kaggle/input/edsa-recommender-system-predict/genome_scores.csv\n",
            "/kaggle/input/edsa-recommender-system-predict/tags.csv\n",
            "/kaggle/input/edsa-recommender-system-predict/imdb_data.csv\n",
            "/kaggle/input/edsa-recommender-system-predict/test.csv\n",
            "/kaggle/input/edsa-recommender-system-predict/sample_submission.csv\n",
            "/kaggle/input/edsa-recommender-system-predict/genome_tags.csv\n",
            "/kaggle/input/edsa-recommender-system-predict/movies.csv\n"
          ],
          "name": "stdout"
        }
      ]
    },
    {
      "cell_type": "markdown",
      "metadata": {
        "id": "GzKN33s4rwai"
      },
      "source": [
        "<a id=\"load\"></a>\n",
        "# 4. Load data"
      ]
    },
    {
      "cell_type": "code",
      "metadata": {
        "trusted": true,
        "id": "IQOveJaPrwai"
      },
      "source": [
        "gen_scores = pd.read_csv('../input/edsa-recommender-system-predict/genome_scores.csv')\n",
        "gen_tgs = pd.read_csv('../input/edsa-recommender-system-predict/genome_tags.csv')\n",
        "imd = pd.read_csv('../input/edsa-recommender-system-predict/imdb_data.csv')\n",
        "links = pd.read_csv('../input/edsa-recommender-system-predict/links.csv')\n",
        "mvs = pd.read_csv('../input/edsa-recommender-system-predict/movies.csv')\n",
        "ss = pd.read_csv('../input/edsa-recommender-system-predict/sample_submission.csv')\n",
        "tgs = pd.read_csv('../input/edsa-recommender-system-predict/tags.csv')\n",
        "test = pd.read_csv('../input/edsa-recommender-system-predict/test.csv')\n",
        "train = pd.read_csv('../input/edsa-recommender-system-predict/train.csv')"
      ],
      "execution_count": null,
      "outputs": []
    },
    {
      "cell_type": "markdown",
      "metadata": {
        "id": "gIP9seRurwaj"
      },
      "source": [
        "<a id=\"dod\"></a>\n",
        "# 5. Description of the data"
      ]
    },
    {
      "cell_type": "markdown",
      "metadata": {
        "id": "chVZm75Crwaj"
      },
      "source": [
        "The dataset is derived form an online movie recommendation service called MovieLens. It consists of millions of 5-star ratings that are provided by the MovieLens' users. Additional data has been scraped from IMDB and added with the purpose to enhance the dataset. \n",
        "\n",
        "The supplied dataset comprises the following:\n",
        "\n",
        "1. genome_scores.csv - A score mapping the strength between movies and tag-related properties\n",
        "2. genome_tags.csv - User assigned tags for genome-related scores\n",
        "3. imdb_data.csv - Additional movie metadata scraped from IMDB using the links.csv file\n",
        "4. links.csv - File providing a mapping between a MovieLens ID and associated IMDB and TMDB IDs\n",
        "5. sample_submission.csv - Sample of the submission format for the hackathon\n",
        "6. tags.csv - User assigned for the movies within the dataset\n",
        "7. test.csv - The test split of the dataset. Contains user and movie IDs with no rating data\n",
        "8. train.csv - The training split of the dataset. Contains user and movie IDs with associated rating data\n",
        "\n"
      ]
    },
    {
      "cell_type": "markdown",
      "metadata": {
        "id": "qPeu7m9Arwaj"
      },
      "source": [
        "<a id=\"cleaning\"></a>\n",
        "# 6. Data pre-processing"
      ]
    },
    {
      "cell_type": "markdown",
      "metadata": {
        "id": "gWxROSa8rwaj"
      },
      "source": [
        "Data preprocessing is the process of transforming raw data into a format that makes it useful for analysis and modelling. Techniques are used to identify errors and modify or remove and parts of the data in order to improve its overall quality.\n",
        "\n",
        "The first five rows of the all the dataframes will be displayed and also their information probed to assess the contents of the tables."
      ]
    },
    {
      "cell_type": "code",
      "metadata": {
        "trusted": true,
        "id": "lkNaMiRprwaj",
        "outputId": "2b2b3e15-cc0b-4947-f1b5-3c314a3f18b2"
      },
      "source": [
        "ss.head()"
      ],
      "execution_count": null,
      "outputs": [
        {
          "output_type": "execute_result",
          "data": {
            "text/plain": [
              "       Id  rating\n",
              "0  1_2011     1.0\n",
              "1  1_4144     1.0\n",
              "2  1_5767     1.0\n",
              "3  1_6711     1.0\n",
              "4  1_7318     1.0"
            ],
            "text/html": [
              "<div>\n",
              "<style scoped>\n",
              "    .dataframe tbody tr th:only-of-type {\n",
              "        vertical-align: middle;\n",
              "    }\n",
              "\n",
              "    .dataframe tbody tr th {\n",
              "        vertical-align: top;\n",
              "    }\n",
              "\n",
              "    .dataframe thead th {\n",
              "        text-align: right;\n",
              "    }\n",
              "</style>\n",
              "<table border=\"1\" class=\"dataframe\">\n",
              "  <thead>\n",
              "    <tr style=\"text-align: right;\">\n",
              "      <th></th>\n",
              "      <th>Id</th>\n",
              "      <th>rating</th>\n",
              "    </tr>\n",
              "  </thead>\n",
              "  <tbody>\n",
              "    <tr>\n",
              "      <th>0</th>\n",
              "      <td>1_2011</td>\n",
              "      <td>1.0</td>\n",
              "    </tr>\n",
              "    <tr>\n",
              "      <th>1</th>\n",
              "      <td>1_4144</td>\n",
              "      <td>1.0</td>\n",
              "    </tr>\n",
              "    <tr>\n",
              "      <th>2</th>\n",
              "      <td>1_5767</td>\n",
              "      <td>1.0</td>\n",
              "    </tr>\n",
              "    <tr>\n",
              "      <th>3</th>\n",
              "      <td>1_6711</td>\n",
              "      <td>1.0</td>\n",
              "    </tr>\n",
              "    <tr>\n",
              "      <th>4</th>\n",
              "      <td>1_7318</td>\n",
              "      <td>1.0</td>\n",
              "    </tr>\n",
              "  </tbody>\n",
              "</table>\n",
              "</div>"
            ]
          },
          "metadata": {
            "tags": []
          },
          "execution_count": 3
        }
      ]
    },
    {
      "cell_type": "markdown",
      "metadata": {
        "id": "6TGmbJoxrwak"
      },
      "source": [
        "The expected output for the exercise is a dataframe with two columns, Id and the predicted rating. "
      ]
    },
    {
      "cell_type": "code",
      "metadata": {
        "trusted": true,
        "id": "mqPUeEB3rwak",
        "outputId": "ff23f127-ba6d-4858-e172-99da3b221ca1"
      },
      "source": [
        "train.head()"
      ],
      "execution_count": null,
      "outputs": [
        {
          "output_type": "execute_result",
          "data": {
            "text/plain": [
              "   userId  movieId  rating   timestamp\n",
              "0    5163    57669     4.0  1518349992\n",
              "1  106343        5     4.5  1206238739\n",
              "2  146790     5459     5.0  1076215539\n",
              "3  106362    32296     2.0  1423042565\n",
              "4    9041      366     3.0   833375837"
            ],
            "text/html": [
              "<div>\n",
              "<style scoped>\n",
              "    .dataframe tbody tr th:only-of-type {\n",
              "        vertical-align: middle;\n",
              "    }\n",
              "\n",
              "    .dataframe tbody tr th {\n",
              "        vertical-align: top;\n",
              "    }\n",
              "\n",
              "    .dataframe thead th {\n",
              "        text-align: right;\n",
              "    }\n",
              "</style>\n",
              "<table border=\"1\" class=\"dataframe\">\n",
              "  <thead>\n",
              "    <tr style=\"text-align: right;\">\n",
              "      <th></th>\n",
              "      <th>userId</th>\n",
              "      <th>movieId</th>\n",
              "      <th>rating</th>\n",
              "      <th>timestamp</th>\n",
              "    </tr>\n",
              "  </thead>\n",
              "  <tbody>\n",
              "    <tr>\n",
              "      <th>0</th>\n",
              "      <td>5163</td>\n",
              "      <td>57669</td>\n",
              "      <td>4.0</td>\n",
              "      <td>1518349992</td>\n",
              "    </tr>\n",
              "    <tr>\n",
              "      <th>1</th>\n",
              "      <td>106343</td>\n",
              "      <td>5</td>\n",
              "      <td>4.5</td>\n",
              "      <td>1206238739</td>\n",
              "    </tr>\n",
              "    <tr>\n",
              "      <th>2</th>\n",
              "      <td>146790</td>\n",
              "      <td>5459</td>\n",
              "      <td>5.0</td>\n",
              "      <td>1076215539</td>\n",
              "    </tr>\n",
              "    <tr>\n",
              "      <th>3</th>\n",
              "      <td>106362</td>\n",
              "      <td>32296</td>\n",
              "      <td>2.0</td>\n",
              "      <td>1423042565</td>\n",
              "    </tr>\n",
              "    <tr>\n",
              "      <th>4</th>\n",
              "      <td>9041</td>\n",
              "      <td>366</td>\n",
              "      <td>3.0</td>\n",
              "      <td>833375837</td>\n",
              "    </tr>\n",
              "  </tbody>\n",
              "</table>\n",
              "</div>"
            ]
          },
          "metadata": {
            "tags": []
          },
          "execution_count": 4
        }
      ]
    },
    {
      "cell_type": "code",
      "metadata": {
        "trusted": true,
        "id": "A3ZrF3qXrwak",
        "outputId": "8cd3ca77-7202-44ee-9ceb-faf9c7a2d4f5"
      },
      "source": [
        "train.info()"
      ],
      "execution_count": null,
      "outputs": [
        {
          "output_type": "stream",
          "text": [
            "<class 'pandas.core.frame.DataFrame'>\n",
            "RangeIndex: 10000038 entries, 0 to 10000037\n",
            "Data columns (total 4 columns):\n",
            " #   Column     Dtype  \n",
            "---  ------     -----  \n",
            " 0   userId     int64  \n",
            " 1   movieId    int64  \n",
            " 2   rating     float64\n",
            " 3   timestamp  int64  \n",
            "dtypes: float64(1), int64(3)\n",
            "memory usage: 305.2 MB\n"
          ],
          "name": "stdout"
        }
      ]
    },
    {
      "cell_type": "code",
      "metadata": {
        "trusted": true,
        "id": "iCxpqg-vrwak",
        "outputId": "030f9665-0c11-46b6-87f0-56514c3f0b5d"
      },
      "source": [
        "links.head()"
      ],
      "execution_count": null,
      "outputs": [
        {
          "output_type": "execute_result",
          "data": {
            "text/plain": [
              "   movieId  imdbId   tmdbId\n",
              "0        1  114709    862.0\n",
              "1        2  113497   8844.0\n",
              "2        3  113228  15602.0\n",
              "3        4  114885  31357.0\n",
              "4        5  113041  11862.0"
            ],
            "text/html": [
              "<div>\n",
              "<style scoped>\n",
              "    .dataframe tbody tr th:only-of-type {\n",
              "        vertical-align: middle;\n",
              "    }\n",
              "\n",
              "    .dataframe tbody tr th {\n",
              "        vertical-align: top;\n",
              "    }\n",
              "\n",
              "    .dataframe thead th {\n",
              "        text-align: right;\n",
              "    }\n",
              "</style>\n",
              "<table border=\"1\" class=\"dataframe\">\n",
              "  <thead>\n",
              "    <tr style=\"text-align: right;\">\n",
              "      <th></th>\n",
              "      <th>movieId</th>\n",
              "      <th>imdbId</th>\n",
              "      <th>tmdbId</th>\n",
              "    </tr>\n",
              "  </thead>\n",
              "  <tbody>\n",
              "    <tr>\n",
              "      <th>0</th>\n",
              "      <td>1</td>\n",
              "      <td>114709</td>\n",
              "      <td>862.0</td>\n",
              "    </tr>\n",
              "    <tr>\n",
              "      <th>1</th>\n",
              "      <td>2</td>\n",
              "      <td>113497</td>\n",
              "      <td>8844.0</td>\n",
              "    </tr>\n",
              "    <tr>\n",
              "      <th>2</th>\n",
              "      <td>3</td>\n",
              "      <td>113228</td>\n",
              "      <td>15602.0</td>\n",
              "    </tr>\n",
              "    <tr>\n",
              "      <th>3</th>\n",
              "      <td>4</td>\n",
              "      <td>114885</td>\n",
              "      <td>31357.0</td>\n",
              "    </tr>\n",
              "    <tr>\n",
              "      <th>4</th>\n",
              "      <td>5</td>\n",
              "      <td>113041</td>\n",
              "      <td>11862.0</td>\n",
              "    </tr>\n",
              "  </tbody>\n",
              "</table>\n",
              "</div>"
            ]
          },
          "metadata": {
            "tags": []
          },
          "execution_count": 6
        }
      ]
    },
    {
      "cell_type": "code",
      "metadata": {
        "trusted": true,
        "id": "-6xSzXazrwal",
        "outputId": "331503d4-46ae-4332-e6cd-b47fbb386e32"
      },
      "source": [
        "links.info()"
      ],
      "execution_count": null,
      "outputs": [
        {
          "output_type": "stream",
          "text": [
            "<class 'pandas.core.frame.DataFrame'>\n",
            "RangeIndex: 62423 entries, 0 to 62422\n",
            "Data columns (total 3 columns):\n",
            " #   Column   Non-Null Count  Dtype  \n",
            "---  ------   --------------  -----  \n",
            " 0   movieId  62423 non-null  int64  \n",
            " 1   imdbId   62423 non-null  int64  \n",
            " 2   tmdbId   62316 non-null  float64\n",
            "dtypes: float64(1), int64(2)\n",
            "memory usage: 1.4 MB\n"
          ],
          "name": "stdout"
        }
      ]
    },
    {
      "cell_type": "code",
      "metadata": {
        "trusted": true,
        "id": "rZRcKmHOrwal",
        "outputId": "3693753b-f091-4043-a9a4-fab458b315c7"
      },
      "source": [
        "mvs.head()"
      ],
      "execution_count": null,
      "outputs": [
        {
          "output_type": "execute_result",
          "data": {
            "text/plain": [
              "   movieId                               title  \\\n",
              "0        1                    Toy Story (1995)   \n",
              "1        2                      Jumanji (1995)   \n",
              "2        3             Grumpier Old Men (1995)   \n",
              "3        4            Waiting to Exhale (1995)   \n",
              "4        5  Father of the Bride Part II (1995)   \n",
              "\n",
              "                                        genres  \n",
              "0  Adventure|Animation|Children|Comedy|Fantasy  \n",
              "1                   Adventure|Children|Fantasy  \n",
              "2                               Comedy|Romance  \n",
              "3                         Comedy|Drama|Romance  \n",
              "4                                       Comedy  "
            ],
            "text/html": [
              "<div>\n",
              "<style scoped>\n",
              "    .dataframe tbody tr th:only-of-type {\n",
              "        vertical-align: middle;\n",
              "    }\n",
              "\n",
              "    .dataframe tbody tr th {\n",
              "        vertical-align: top;\n",
              "    }\n",
              "\n",
              "    .dataframe thead th {\n",
              "        text-align: right;\n",
              "    }\n",
              "</style>\n",
              "<table border=\"1\" class=\"dataframe\">\n",
              "  <thead>\n",
              "    <tr style=\"text-align: right;\">\n",
              "      <th></th>\n",
              "      <th>movieId</th>\n",
              "      <th>title</th>\n",
              "      <th>genres</th>\n",
              "    </tr>\n",
              "  </thead>\n",
              "  <tbody>\n",
              "    <tr>\n",
              "      <th>0</th>\n",
              "      <td>1</td>\n",
              "      <td>Toy Story (1995)</td>\n",
              "      <td>Adventure|Animation|Children|Comedy|Fantasy</td>\n",
              "    </tr>\n",
              "    <tr>\n",
              "      <th>1</th>\n",
              "      <td>2</td>\n",
              "      <td>Jumanji (1995)</td>\n",
              "      <td>Adventure|Children|Fantasy</td>\n",
              "    </tr>\n",
              "    <tr>\n",
              "      <th>2</th>\n",
              "      <td>3</td>\n",
              "      <td>Grumpier Old Men (1995)</td>\n",
              "      <td>Comedy|Romance</td>\n",
              "    </tr>\n",
              "    <tr>\n",
              "      <th>3</th>\n",
              "      <td>4</td>\n",
              "      <td>Waiting to Exhale (1995)</td>\n",
              "      <td>Comedy|Drama|Romance</td>\n",
              "    </tr>\n",
              "    <tr>\n",
              "      <th>4</th>\n",
              "      <td>5</td>\n",
              "      <td>Father of the Bride Part II (1995)</td>\n",
              "      <td>Comedy</td>\n",
              "    </tr>\n",
              "  </tbody>\n",
              "</table>\n",
              "</div>"
            ]
          },
          "metadata": {
            "tags": []
          },
          "execution_count": 8
        }
      ]
    },
    {
      "cell_type": "code",
      "metadata": {
        "trusted": true,
        "id": "vDDTI4XFrwal",
        "outputId": "df6f6a4a-792a-4686-e25c-02a331491567"
      },
      "source": [
        "mvs.info()"
      ],
      "execution_count": null,
      "outputs": [
        {
          "output_type": "stream",
          "text": [
            "<class 'pandas.core.frame.DataFrame'>\n",
            "RangeIndex: 62423 entries, 0 to 62422\n",
            "Data columns (total 3 columns):\n",
            " #   Column   Non-Null Count  Dtype \n",
            "---  ------   --------------  ----- \n",
            " 0   movieId  62423 non-null  int64 \n",
            " 1   title    62423 non-null  object\n",
            " 2   genres   62423 non-null  object\n",
            "dtypes: int64(1), object(2)\n",
            "memory usage: 1.4+ MB\n"
          ],
          "name": "stdout"
        }
      ]
    },
    {
      "cell_type": "code",
      "metadata": {
        "trusted": true,
        "id": "ocQbJtJHrwam",
        "outputId": "ee564a94-5f30-4656-8efb-91c88fcc9208"
      },
      "source": [
        "tgs.head()"
      ],
      "execution_count": null,
      "outputs": [
        {
          "output_type": "execute_result",
          "data": {
            "text/plain": [
              "   userId  movieId               tag   timestamp\n",
              "0       3      260           classic  1439472355\n",
              "1       3      260            sci-fi  1439472256\n",
              "2       4     1732       dark comedy  1573943598\n",
              "3       4     1732    great dialogue  1573943604\n",
              "4       4     7569  so bad it's good  1573943455"
            ],
            "text/html": [
              "<div>\n",
              "<style scoped>\n",
              "    .dataframe tbody tr th:only-of-type {\n",
              "        vertical-align: middle;\n",
              "    }\n",
              "\n",
              "    .dataframe tbody tr th {\n",
              "        vertical-align: top;\n",
              "    }\n",
              "\n",
              "    .dataframe thead th {\n",
              "        text-align: right;\n",
              "    }\n",
              "</style>\n",
              "<table border=\"1\" class=\"dataframe\">\n",
              "  <thead>\n",
              "    <tr style=\"text-align: right;\">\n",
              "      <th></th>\n",
              "      <th>userId</th>\n",
              "      <th>movieId</th>\n",
              "      <th>tag</th>\n",
              "      <th>timestamp</th>\n",
              "    </tr>\n",
              "  </thead>\n",
              "  <tbody>\n",
              "    <tr>\n",
              "      <th>0</th>\n",
              "      <td>3</td>\n",
              "      <td>260</td>\n",
              "      <td>classic</td>\n",
              "      <td>1439472355</td>\n",
              "    </tr>\n",
              "    <tr>\n",
              "      <th>1</th>\n",
              "      <td>3</td>\n",
              "      <td>260</td>\n",
              "      <td>sci-fi</td>\n",
              "      <td>1439472256</td>\n",
              "    </tr>\n",
              "    <tr>\n",
              "      <th>2</th>\n",
              "      <td>4</td>\n",
              "      <td>1732</td>\n",
              "      <td>dark comedy</td>\n",
              "      <td>1573943598</td>\n",
              "    </tr>\n",
              "    <tr>\n",
              "      <th>3</th>\n",
              "      <td>4</td>\n",
              "      <td>1732</td>\n",
              "      <td>great dialogue</td>\n",
              "      <td>1573943604</td>\n",
              "    </tr>\n",
              "    <tr>\n",
              "      <th>4</th>\n",
              "      <td>4</td>\n",
              "      <td>7569</td>\n",
              "      <td>so bad it's good</td>\n",
              "      <td>1573943455</td>\n",
              "    </tr>\n",
              "  </tbody>\n",
              "</table>\n",
              "</div>"
            ]
          },
          "metadata": {
            "tags": []
          },
          "execution_count": 10
        }
      ]
    },
    {
      "cell_type": "code",
      "metadata": {
        "trusted": true,
        "id": "qUQOc1Kjrwam",
        "outputId": "02342eb0-aa06-4125-f68e-dbecbd1dccce"
      },
      "source": [
        "tgs.info()"
      ],
      "execution_count": null,
      "outputs": [
        {
          "output_type": "stream",
          "text": [
            "<class 'pandas.core.frame.DataFrame'>\n",
            "RangeIndex: 1093360 entries, 0 to 1093359\n",
            "Data columns (total 4 columns):\n",
            " #   Column     Non-Null Count    Dtype \n",
            "---  ------     --------------    ----- \n",
            " 0   userId     1093360 non-null  int64 \n",
            " 1   movieId    1093360 non-null  int64 \n",
            " 2   tag        1093344 non-null  object\n",
            " 3   timestamp  1093360 non-null  int64 \n",
            "dtypes: int64(3), object(1)\n",
            "memory usage: 33.4+ MB\n"
          ],
          "name": "stdout"
        }
      ]
    },
    {
      "cell_type": "code",
      "metadata": {
        "trusted": true,
        "id": "8Da6OVX-rwan",
        "outputId": "bae5f426-0e5a-4f9b-fab0-451db03b8533"
      },
      "source": [
        "gen_scores.head()\n"
      ],
      "execution_count": null,
      "outputs": [
        {
          "output_type": "execute_result",
          "data": {
            "text/plain": [
              "   movieId  tagId  relevance\n",
              "0        1      1    0.02875\n",
              "1        1      2    0.02375\n",
              "2        1      3    0.06250\n",
              "3        1      4    0.07575\n",
              "4        1      5    0.14075"
            ],
            "text/html": [
              "<div>\n",
              "<style scoped>\n",
              "    .dataframe tbody tr th:only-of-type {\n",
              "        vertical-align: middle;\n",
              "    }\n",
              "\n",
              "    .dataframe tbody tr th {\n",
              "        vertical-align: top;\n",
              "    }\n",
              "\n",
              "    .dataframe thead th {\n",
              "        text-align: right;\n",
              "    }\n",
              "</style>\n",
              "<table border=\"1\" class=\"dataframe\">\n",
              "  <thead>\n",
              "    <tr style=\"text-align: right;\">\n",
              "      <th></th>\n",
              "      <th>movieId</th>\n",
              "      <th>tagId</th>\n",
              "      <th>relevance</th>\n",
              "    </tr>\n",
              "  </thead>\n",
              "  <tbody>\n",
              "    <tr>\n",
              "      <th>0</th>\n",
              "      <td>1</td>\n",
              "      <td>1</td>\n",
              "      <td>0.02875</td>\n",
              "    </tr>\n",
              "    <tr>\n",
              "      <th>1</th>\n",
              "      <td>1</td>\n",
              "      <td>2</td>\n",
              "      <td>0.02375</td>\n",
              "    </tr>\n",
              "    <tr>\n",
              "      <th>2</th>\n",
              "      <td>1</td>\n",
              "      <td>3</td>\n",
              "      <td>0.06250</td>\n",
              "    </tr>\n",
              "    <tr>\n",
              "      <th>3</th>\n",
              "      <td>1</td>\n",
              "      <td>4</td>\n",
              "      <td>0.07575</td>\n",
              "    </tr>\n",
              "    <tr>\n",
              "      <th>4</th>\n",
              "      <td>1</td>\n",
              "      <td>5</td>\n",
              "      <td>0.14075</td>\n",
              "    </tr>\n",
              "  </tbody>\n",
              "</table>\n",
              "</div>"
            ]
          },
          "metadata": {
            "tags": []
          },
          "execution_count": 12
        }
      ]
    },
    {
      "cell_type": "code",
      "metadata": {
        "trusted": true,
        "id": "WKdfwpx9rwan",
        "outputId": "5e642aa9-b382-44da-9cdf-f73abdebf956"
      },
      "source": [
        "gen_scores.info()"
      ],
      "execution_count": null,
      "outputs": [
        {
          "output_type": "stream",
          "text": [
            "<class 'pandas.core.frame.DataFrame'>\n",
            "RangeIndex: 15584448 entries, 0 to 15584447\n",
            "Data columns (total 3 columns):\n",
            " #   Column     Dtype  \n",
            "---  ------     -----  \n",
            " 0   movieId    int64  \n",
            " 1   tagId      int64  \n",
            " 2   relevance  float64\n",
            "dtypes: float64(1), int64(2)\n",
            "memory usage: 356.7 MB\n"
          ],
          "name": "stdout"
        }
      ]
    },
    {
      "cell_type": "code",
      "metadata": {
        "trusted": true,
        "id": "kjxJT0E_rwan",
        "outputId": "4640e3dc-b815-4c44-e4cd-b3c4d8cfd142"
      },
      "source": [
        "gen_tgs.head()"
      ],
      "execution_count": null,
      "outputs": [
        {
          "output_type": "execute_result",
          "data": {
            "text/plain": [
              "   tagId           tag\n",
              "0      1           007\n",
              "1      2  007 (series)\n",
              "2      3  18th century\n",
              "3      4         1920s\n",
              "4      5         1930s"
            ],
            "text/html": [
              "<div>\n",
              "<style scoped>\n",
              "    .dataframe tbody tr th:only-of-type {\n",
              "        vertical-align: middle;\n",
              "    }\n",
              "\n",
              "    .dataframe tbody tr th {\n",
              "        vertical-align: top;\n",
              "    }\n",
              "\n",
              "    .dataframe thead th {\n",
              "        text-align: right;\n",
              "    }\n",
              "</style>\n",
              "<table border=\"1\" class=\"dataframe\">\n",
              "  <thead>\n",
              "    <tr style=\"text-align: right;\">\n",
              "      <th></th>\n",
              "      <th>tagId</th>\n",
              "      <th>tag</th>\n",
              "    </tr>\n",
              "  </thead>\n",
              "  <tbody>\n",
              "    <tr>\n",
              "      <th>0</th>\n",
              "      <td>1</td>\n",
              "      <td>007</td>\n",
              "    </tr>\n",
              "    <tr>\n",
              "      <th>1</th>\n",
              "      <td>2</td>\n",
              "      <td>007 (series)</td>\n",
              "    </tr>\n",
              "    <tr>\n",
              "      <th>2</th>\n",
              "      <td>3</td>\n",
              "      <td>18th century</td>\n",
              "    </tr>\n",
              "    <tr>\n",
              "      <th>3</th>\n",
              "      <td>4</td>\n",
              "      <td>1920s</td>\n",
              "    </tr>\n",
              "    <tr>\n",
              "      <th>4</th>\n",
              "      <td>5</td>\n",
              "      <td>1930s</td>\n",
              "    </tr>\n",
              "  </tbody>\n",
              "</table>\n",
              "</div>"
            ]
          },
          "metadata": {
            "tags": []
          },
          "execution_count": 14
        }
      ]
    },
    {
      "cell_type": "code",
      "metadata": {
        "trusted": true,
        "id": "MusJ_cDyrwao",
        "outputId": "cf4124c5-9267-4650-ab0b-e82c2b63fe80"
      },
      "source": [
        "gen_tgs.info()"
      ],
      "execution_count": null,
      "outputs": [
        {
          "output_type": "stream",
          "text": [
            "<class 'pandas.core.frame.DataFrame'>\n",
            "RangeIndex: 1128 entries, 0 to 1127\n",
            "Data columns (total 2 columns):\n",
            " #   Column  Non-Null Count  Dtype \n",
            "---  ------  --------------  ----- \n",
            " 0   tagId   1128 non-null   int64 \n",
            " 1   tag     1128 non-null   object\n",
            "dtypes: int64(1), object(1)\n",
            "memory usage: 17.8+ KB\n"
          ],
          "name": "stdout"
        }
      ]
    },
    {
      "cell_type": "code",
      "metadata": {
        "trusted": true,
        "id": "pwxfFzxzrwao",
        "outputId": "f4348a46-0d7f-430b-ed33-bea2b1e1cf74"
      },
      "source": [
        "imd.head()"
      ],
      "execution_count": null,
      "outputs": [
        {
          "output_type": "execute_result",
          "data": {
            "text/plain": [
              "   movieId                                         title_cast  \\\n",
              "0        1  Tom Hanks|Tim Allen|Don Rickles|Jim Varney|Wal...   \n",
              "1        2  Robin Williams|Jonathan Hyde|Kirsten Dunst|Bra...   \n",
              "2        3  Walter Matthau|Jack Lemmon|Sophia Loren|Ann-Ma...   \n",
              "3        4  Whitney Houston|Angela Bassett|Loretta Devine|...   \n",
              "4        5  Steve Martin|Diane Keaton|Martin Short|Kimberl...   \n",
              "\n",
              "              director  runtime       budget  \\\n",
              "0        John Lasseter     81.0  $30,000,000   \n",
              "1   Jonathan Hensleigh    104.0  $65,000,000   \n",
              "2  Mark Steven Johnson    101.0  $25,000,000   \n",
              "3       Terry McMillan    124.0  $16,000,000   \n",
              "4       Albert Hackett    106.0  $30,000,000   \n",
              "\n",
              "                                       plot_keywords  \n",
              "0                   toy|rivalry|cowboy|cgi animation  \n",
              "1                   board game|adventurer|fight|game  \n",
              "2                         boat|lake|neighbor|rivalry  \n",
              "3  black american|husband wife relationship|betra...  \n",
              "4                    fatherhood|doberman|dog|mansion  "
            ],
            "text/html": [
              "<div>\n",
              "<style scoped>\n",
              "    .dataframe tbody tr th:only-of-type {\n",
              "        vertical-align: middle;\n",
              "    }\n",
              "\n",
              "    .dataframe tbody tr th {\n",
              "        vertical-align: top;\n",
              "    }\n",
              "\n",
              "    .dataframe thead th {\n",
              "        text-align: right;\n",
              "    }\n",
              "</style>\n",
              "<table border=\"1\" class=\"dataframe\">\n",
              "  <thead>\n",
              "    <tr style=\"text-align: right;\">\n",
              "      <th></th>\n",
              "      <th>movieId</th>\n",
              "      <th>title_cast</th>\n",
              "      <th>director</th>\n",
              "      <th>runtime</th>\n",
              "      <th>budget</th>\n",
              "      <th>plot_keywords</th>\n",
              "    </tr>\n",
              "  </thead>\n",
              "  <tbody>\n",
              "    <tr>\n",
              "      <th>0</th>\n",
              "      <td>1</td>\n",
              "      <td>Tom Hanks|Tim Allen|Don Rickles|Jim Varney|Wal...</td>\n",
              "      <td>John Lasseter</td>\n",
              "      <td>81.0</td>\n",
              "      <td>$30,000,000</td>\n",
              "      <td>toy|rivalry|cowboy|cgi animation</td>\n",
              "    </tr>\n",
              "    <tr>\n",
              "      <th>1</th>\n",
              "      <td>2</td>\n",
              "      <td>Robin Williams|Jonathan Hyde|Kirsten Dunst|Bra...</td>\n",
              "      <td>Jonathan Hensleigh</td>\n",
              "      <td>104.0</td>\n",
              "      <td>$65,000,000</td>\n",
              "      <td>board game|adventurer|fight|game</td>\n",
              "    </tr>\n",
              "    <tr>\n",
              "      <th>2</th>\n",
              "      <td>3</td>\n",
              "      <td>Walter Matthau|Jack Lemmon|Sophia Loren|Ann-Ma...</td>\n",
              "      <td>Mark Steven Johnson</td>\n",
              "      <td>101.0</td>\n",
              "      <td>$25,000,000</td>\n",
              "      <td>boat|lake|neighbor|rivalry</td>\n",
              "    </tr>\n",
              "    <tr>\n",
              "      <th>3</th>\n",
              "      <td>4</td>\n",
              "      <td>Whitney Houston|Angela Bassett|Loretta Devine|...</td>\n",
              "      <td>Terry McMillan</td>\n",
              "      <td>124.0</td>\n",
              "      <td>$16,000,000</td>\n",
              "      <td>black american|husband wife relationship|betra...</td>\n",
              "    </tr>\n",
              "    <tr>\n",
              "      <th>4</th>\n",
              "      <td>5</td>\n",
              "      <td>Steve Martin|Diane Keaton|Martin Short|Kimberl...</td>\n",
              "      <td>Albert Hackett</td>\n",
              "      <td>106.0</td>\n",
              "      <td>$30,000,000</td>\n",
              "      <td>fatherhood|doberman|dog|mansion</td>\n",
              "    </tr>\n",
              "  </tbody>\n",
              "</table>\n",
              "</div>"
            ]
          },
          "metadata": {
            "tags": []
          },
          "execution_count": 16
        }
      ]
    },
    {
      "cell_type": "code",
      "metadata": {
        "trusted": true,
        "id": "ep6yXQPQrwap",
        "outputId": "cb84ca3c-d026-40e3-9b81-0effc4d2d992"
      },
      "source": [
        "imd.info()"
      ],
      "execution_count": null,
      "outputs": [
        {
          "output_type": "stream",
          "text": [
            "<class 'pandas.core.frame.DataFrame'>\n",
            "RangeIndex: 27278 entries, 0 to 27277\n",
            "Data columns (total 6 columns):\n",
            " #   Column         Non-Null Count  Dtype  \n",
            "---  ------         --------------  -----  \n",
            " 0   movieId        27278 non-null  int64  \n",
            " 1   title_cast     17210 non-null  object \n",
            " 2   director       17404 non-null  object \n",
            " 3   runtime        15189 non-null  float64\n",
            " 4   budget         7906 non-null   object \n",
            " 5   plot_keywords  16200 non-null  object \n",
            "dtypes: float64(1), int64(1), object(4)\n",
            "memory usage: 1.2+ MB\n"
          ],
          "name": "stdout"
        }
      ]
    },
    {
      "cell_type": "markdown",
      "metadata": {
        "id": "QHV4ivlUrwap"
      },
      "source": [
        "### Null values"
      ]
    },
    {
      "cell_type": "markdown",
      "metadata": {
        "id": "oe_iwlvhrwap"
      },
      "source": [
        "Null values are common in datasets. They represent countless things that could have gone wrong during the collection of data or the information simply does not exist. It is imperative to check for null values and deal with them because they can cause complications whilst modelling."
      ]
    },
    {
      "cell_type": "code",
      "metadata": {
        "trusted": true,
        "id": "9Rr8LRRMrwap",
        "outputId": "f4ddab84-cfca-4356-95d9-7e9870492c4f"
      },
      "source": [
        "train.isnull().sum()"
      ],
      "execution_count": null,
      "outputs": [
        {
          "output_type": "execute_result",
          "data": {
            "text/plain": [
              "userId       0\n",
              "movieId      0\n",
              "rating       0\n",
              "timestamp    0\n",
              "dtype: int64"
            ]
          },
          "metadata": {
            "tags": []
          },
          "execution_count": 18
        }
      ]
    },
    {
      "cell_type": "code",
      "metadata": {
        "trusted": true,
        "id": "dxcWrbE1rwaq",
        "outputId": "78009534-8969-4713-db9c-2cb296b41235"
      },
      "source": [
        "links.isnull().sum()"
      ],
      "execution_count": null,
      "outputs": [
        {
          "output_type": "execute_result",
          "data": {
            "text/plain": [
              "movieId      0\n",
              "imdbId       0\n",
              "tmdbId     107\n",
              "dtype: int64"
            ]
          },
          "metadata": {
            "tags": []
          },
          "execution_count": 19
        }
      ]
    },
    {
      "cell_type": "code",
      "metadata": {
        "trusted": true,
        "id": "WfCfbmjlrwaq",
        "outputId": "80510d07-ca6a-4cfa-a4cc-d6bf6fabe3d5"
      },
      "source": [
        "tgs.isnull().sum()"
      ],
      "execution_count": null,
      "outputs": [
        {
          "output_type": "execute_result",
          "data": {
            "text/plain": [
              "userId        0\n",
              "movieId       0\n",
              "tag          16\n",
              "timestamp     0\n",
              "dtype: int64"
            ]
          },
          "metadata": {
            "tags": []
          },
          "execution_count": 20
        }
      ]
    },
    {
      "cell_type": "code",
      "metadata": {
        "trusted": true,
        "id": "CWh_iOHWrwar",
        "outputId": "0017f8da-f04e-41e7-abf5-e5761b3b81aa"
      },
      "source": [
        "gen_scores.isnull().sum()"
      ],
      "execution_count": null,
      "outputs": [
        {
          "output_type": "execute_result",
          "data": {
            "text/plain": [
              "movieId      0\n",
              "tagId        0\n",
              "relevance    0\n",
              "dtype: int64"
            ]
          },
          "metadata": {
            "tags": []
          },
          "execution_count": 21
        }
      ]
    },
    {
      "cell_type": "code",
      "metadata": {
        "trusted": true,
        "id": "MQV9izuzrwar",
        "outputId": "c3e7789b-4649-4592-b752-e8e8490630b6"
      },
      "source": [
        "gen_tgs.isnull().sum()"
      ],
      "execution_count": null,
      "outputs": [
        {
          "output_type": "execute_result",
          "data": {
            "text/plain": [
              "tagId    0\n",
              "tag      0\n",
              "dtype: int64"
            ]
          },
          "metadata": {
            "tags": []
          },
          "execution_count": 22
        }
      ]
    },
    {
      "cell_type": "code",
      "metadata": {
        "trusted": true,
        "id": "bH2kkO4Frwar",
        "outputId": "ea7c5e94-e907-4a45-c490-2207975b7a6d"
      },
      "source": [
        "imd.isnull().sum()"
      ],
      "execution_count": null,
      "outputs": [
        {
          "output_type": "execute_result",
          "data": {
            "text/plain": [
              "movieId              0\n",
              "title_cast       10068\n",
              "director          9874\n",
              "runtime          12089\n",
              "budget           19372\n",
              "plot_keywords    11078\n",
              "dtype: int64"
            ]
          },
          "metadata": {
            "tags": []
          },
          "execution_count": 23
        }
      ]
    },
    {
      "cell_type": "markdown",
      "metadata": {
        "id": "EDRcu3yXrwas"
      },
      "source": [
        "There is a noticeable number of null values in each dataframe. Each will be handled on a case basis depending on how the dataframe will be utilised. The null values can either be removed or imputed. The type of imputation will be dictated by the data type of the feature and it's perceived relevance."
      ]
    },
    {
      "cell_type": "markdown",
      "metadata": {
        "id": "5xcK66Vorwas"
      },
      "source": [
        "### Merge datasets"
      ]
    },
    {
      "cell_type": "markdown",
      "metadata": {
        "id": "yxQHoe0wrwas"
      },
      "source": [
        "The train, movies and imdb dataframes will be merged as it is easier to work with one dataframe."
      ]
    },
    {
      "cell_type": "code",
      "metadata": {
        "trusted": true,
        "id": "j5249VHLrwas"
      },
      "source": [
        "combined_df = pd.merge(train, mvs, how = 'left',on = 'movieId')"
      ],
      "execution_count": null,
      "outputs": []
    },
    {
      "cell_type": "code",
      "metadata": {
        "trusted": true,
        "id": "h3kCrgsArwas"
      },
      "source": [
        "combined_df = pd.merge(combined_df,imd, how = 'left', on = 'movieId')"
      ],
      "execution_count": null,
      "outputs": []
    },
    {
      "cell_type": "code",
      "metadata": {
        "trusted": true,
        "id": "O6X-RsWqrwas",
        "outputId": "63409b00-5347-46e4-ccc1-b3118cfea2ee"
      },
      "source": [
        "combined_df.head()"
      ],
      "execution_count": null,
      "outputs": [
        {
          "output_type": "execute_result",
          "data": {
            "text/plain": [
              "   userId  movieId  rating   timestamp  \\\n",
              "0    5163    57669     4.0  1518349992   \n",
              "1  106343        5     4.5  1206238739   \n",
              "2  146790     5459     5.0  1076215539   \n",
              "3  106362    32296     2.0  1423042565   \n",
              "4    9041      366     3.0   833375837   \n",
              "\n",
              "                                               title  \\\n",
              "0                                   In Bruges (2008)   \n",
              "1                 Father of the Bride Part II (1995)   \n",
              "2  Men in Black II (a.k.a. MIIB) (a.k.a. MIB 2) (...   \n",
              "3     Miss Congeniality 2: Armed and Fabulous (2005)   \n",
              "4  Wes Craven's New Nightmare (Nightmare on Elm S...   \n",
              "\n",
              "                          genres  \\\n",
              "0    Comedy|Crime|Drama|Thriller   \n",
              "1                         Comedy   \n",
              "2           Action|Comedy|Sci-Fi   \n",
              "3         Adventure|Comedy|Crime   \n",
              "4  Drama|Horror|Mystery|Thriller   \n",
              "\n",
              "                                          title_cast           director  \\\n",
              "0  Elizabeth Berrington|Rudy Blomme|Olivier Bonjo...    Martin McDonagh   \n",
              "1  Steve Martin|Diane Keaton|Martin Short|Kimberl...     Albert Hackett   \n",
              "2  Tommy Lee Jones|Will Smith|Rip Torn|Lara Flynn...  Lowell Cunningham   \n",
              "3  Sandra Bullock|Regina King|Enrique Murciano|Wi...      Marc Lawrence   \n",
              "4  Jeff Davis|Heather Langenkamp|Miko Hughes|Matt...         Wes Craven   \n",
              "\n",
              "   runtime        budget                                      plot_keywords  \n",
              "0    107.0   $15,000,000                          dwarf|bruges|irish|hitman  \n",
              "1    106.0   $30,000,000                    fatherhood|doberman|dog|mansion  \n",
              "2     88.0  $140,000,000  lingerie|michael jackson character|shorthaired...  \n",
              "3    115.0   $45,000,000       female protagonist|cleave gag|good woman|fbi  \n",
              "4    112.0    $8,000,000  freddy krueger|elm street|famous director as h...  "
            ],
            "text/html": [
              "<div>\n",
              "<style scoped>\n",
              "    .dataframe tbody tr th:only-of-type {\n",
              "        vertical-align: middle;\n",
              "    }\n",
              "\n",
              "    .dataframe tbody tr th {\n",
              "        vertical-align: top;\n",
              "    }\n",
              "\n",
              "    .dataframe thead th {\n",
              "        text-align: right;\n",
              "    }\n",
              "</style>\n",
              "<table border=\"1\" class=\"dataframe\">\n",
              "  <thead>\n",
              "    <tr style=\"text-align: right;\">\n",
              "      <th></th>\n",
              "      <th>userId</th>\n",
              "      <th>movieId</th>\n",
              "      <th>rating</th>\n",
              "      <th>timestamp</th>\n",
              "      <th>title</th>\n",
              "      <th>genres</th>\n",
              "      <th>title_cast</th>\n",
              "      <th>director</th>\n",
              "      <th>runtime</th>\n",
              "      <th>budget</th>\n",
              "      <th>plot_keywords</th>\n",
              "    </tr>\n",
              "  </thead>\n",
              "  <tbody>\n",
              "    <tr>\n",
              "      <th>0</th>\n",
              "      <td>5163</td>\n",
              "      <td>57669</td>\n",
              "      <td>4.0</td>\n",
              "      <td>1518349992</td>\n",
              "      <td>In Bruges (2008)</td>\n",
              "      <td>Comedy|Crime|Drama|Thriller</td>\n",
              "      <td>Elizabeth Berrington|Rudy Blomme|Olivier Bonjo...</td>\n",
              "      <td>Martin McDonagh</td>\n",
              "      <td>107.0</td>\n",
              "      <td>$15,000,000</td>\n",
              "      <td>dwarf|bruges|irish|hitman</td>\n",
              "    </tr>\n",
              "    <tr>\n",
              "      <th>1</th>\n",
              "      <td>106343</td>\n",
              "      <td>5</td>\n",
              "      <td>4.5</td>\n",
              "      <td>1206238739</td>\n",
              "      <td>Father of the Bride Part II (1995)</td>\n",
              "      <td>Comedy</td>\n",
              "      <td>Steve Martin|Diane Keaton|Martin Short|Kimberl...</td>\n",
              "      <td>Albert Hackett</td>\n",
              "      <td>106.0</td>\n",
              "      <td>$30,000,000</td>\n",
              "      <td>fatherhood|doberman|dog|mansion</td>\n",
              "    </tr>\n",
              "    <tr>\n",
              "      <th>2</th>\n",
              "      <td>146790</td>\n",
              "      <td>5459</td>\n",
              "      <td>5.0</td>\n",
              "      <td>1076215539</td>\n",
              "      <td>Men in Black II (a.k.a. MIIB) (a.k.a. MIB 2) (...</td>\n",
              "      <td>Action|Comedy|Sci-Fi</td>\n",
              "      <td>Tommy Lee Jones|Will Smith|Rip Torn|Lara Flynn...</td>\n",
              "      <td>Lowell Cunningham</td>\n",
              "      <td>88.0</td>\n",
              "      <td>$140,000,000</td>\n",
              "      <td>lingerie|michael jackson character|shorthaired...</td>\n",
              "    </tr>\n",
              "    <tr>\n",
              "      <th>3</th>\n",
              "      <td>106362</td>\n",
              "      <td>32296</td>\n",
              "      <td>2.0</td>\n",
              "      <td>1423042565</td>\n",
              "      <td>Miss Congeniality 2: Armed and Fabulous (2005)</td>\n",
              "      <td>Adventure|Comedy|Crime</td>\n",
              "      <td>Sandra Bullock|Regina King|Enrique Murciano|Wi...</td>\n",
              "      <td>Marc Lawrence</td>\n",
              "      <td>115.0</td>\n",
              "      <td>$45,000,000</td>\n",
              "      <td>female protagonist|cleave gag|good woman|fbi</td>\n",
              "    </tr>\n",
              "    <tr>\n",
              "      <th>4</th>\n",
              "      <td>9041</td>\n",
              "      <td>366</td>\n",
              "      <td>3.0</td>\n",
              "      <td>833375837</td>\n",
              "      <td>Wes Craven's New Nightmare (Nightmare on Elm S...</td>\n",
              "      <td>Drama|Horror|Mystery|Thriller</td>\n",
              "      <td>Jeff Davis|Heather Langenkamp|Miko Hughes|Matt...</td>\n",
              "      <td>Wes Craven</td>\n",
              "      <td>112.0</td>\n",
              "      <td>$8,000,000</td>\n",
              "      <td>freddy krueger|elm street|famous director as h...</td>\n",
              "    </tr>\n",
              "  </tbody>\n",
              "</table>\n",
              "</div>"
            ]
          },
          "metadata": {
            "tags": []
          },
          "execution_count": 26
        }
      ]
    },
    {
      "cell_type": "markdown",
      "metadata": {
        "id": "4bXxpeAqrwat"
      },
      "source": [
        "### Datetime formatting"
      ]
    },
    {
      "cell_type": "markdown",
      "metadata": {
        "id": "wC_5fqYTrwat"
      },
      "source": [
        "The timestamp column is currently represented in a unix time format. The timestamp is changed from a unix timestamp to a readable and interpretable forma which will use in our EDA to see the variation in the ratings of the movie as the years progress."
      ]
    },
    {
      "cell_type": "code",
      "metadata": {
        "trusted": true,
        "id": "q5PWNHTYrwat"
      },
      "source": [
        "combined_df['timestamp'] = combined_df['timestamp'].apply(lambda x: datetime.datetime.fromtimestamp(x))"
      ],
      "execution_count": null,
      "outputs": []
    },
    {
      "cell_type": "code",
      "metadata": {
        "trusted": true,
        "id": "-0S9rC1lrwat"
      },
      "source": [
        "timestamp = combined_df['timestamp'].dt.year"
      ],
      "execution_count": null,
      "outputs": []
    },
    {
      "cell_type": "code",
      "metadata": {
        "trusted": true,
        "id": "QgHiAcCNrwat"
      },
      "source": [
        "combined_df['rating_year'] = timestamp"
      ],
      "execution_count": null,
      "outputs": []
    },
    {
      "cell_type": "code",
      "metadata": {
        "trusted": true,
        "id": "R_il8TKLrwat"
      },
      "source": [
        "combined_df.drop('timestamp', axis = 1, inplace = True)"
      ],
      "execution_count": null,
      "outputs": []
    },
    {
      "cell_type": "code",
      "metadata": {
        "trusted": true,
        "id": "by9f2QK_rwat",
        "outputId": "81a4bfd4-9265-4a2c-921d-1ab4a551218e"
      },
      "source": [
        "combined_df.head()"
      ],
      "execution_count": null,
      "outputs": [
        {
          "output_type": "execute_result",
          "data": {
            "text/plain": [
              "   userId  movieId  rating                                              title  \\\n",
              "0    5163    57669     4.0                                   In Bruges (2008)   \n",
              "1  106343        5     4.5                 Father of the Bride Part II (1995)   \n",
              "2  146790     5459     5.0  Men in Black II (a.k.a. MIIB) (a.k.a. MIB 2) (...   \n",
              "3  106362    32296     2.0     Miss Congeniality 2: Armed and Fabulous (2005)   \n",
              "4    9041      366     3.0  Wes Craven's New Nightmare (Nightmare on Elm S...   \n",
              "\n",
              "                          genres  \\\n",
              "0    Comedy|Crime|Drama|Thriller   \n",
              "1                         Comedy   \n",
              "2           Action|Comedy|Sci-Fi   \n",
              "3         Adventure|Comedy|Crime   \n",
              "4  Drama|Horror|Mystery|Thriller   \n",
              "\n",
              "                                          title_cast           director  \\\n",
              "0  Elizabeth Berrington|Rudy Blomme|Olivier Bonjo...    Martin McDonagh   \n",
              "1  Steve Martin|Diane Keaton|Martin Short|Kimberl...     Albert Hackett   \n",
              "2  Tommy Lee Jones|Will Smith|Rip Torn|Lara Flynn...  Lowell Cunningham   \n",
              "3  Sandra Bullock|Regina King|Enrique Murciano|Wi...      Marc Lawrence   \n",
              "4  Jeff Davis|Heather Langenkamp|Miko Hughes|Matt...         Wes Craven   \n",
              "\n",
              "   runtime        budget                                      plot_keywords  \\\n",
              "0    107.0   $15,000,000                          dwarf|bruges|irish|hitman   \n",
              "1    106.0   $30,000,000                    fatherhood|doberman|dog|mansion   \n",
              "2     88.0  $140,000,000  lingerie|michael jackson character|shorthaired...   \n",
              "3    115.0   $45,000,000       female protagonist|cleave gag|good woman|fbi   \n",
              "4    112.0    $8,000,000  freddy krueger|elm street|famous director as h...   \n",
              "\n",
              "   rating_year  \n",
              "0         2018  \n",
              "1         2008  \n",
              "2         2004  \n",
              "3         2015  \n",
              "4         1996  "
            ],
            "text/html": [
              "<div>\n",
              "<style scoped>\n",
              "    .dataframe tbody tr th:only-of-type {\n",
              "        vertical-align: middle;\n",
              "    }\n",
              "\n",
              "    .dataframe tbody tr th {\n",
              "        vertical-align: top;\n",
              "    }\n",
              "\n",
              "    .dataframe thead th {\n",
              "        text-align: right;\n",
              "    }\n",
              "</style>\n",
              "<table border=\"1\" class=\"dataframe\">\n",
              "  <thead>\n",
              "    <tr style=\"text-align: right;\">\n",
              "      <th></th>\n",
              "      <th>userId</th>\n",
              "      <th>movieId</th>\n",
              "      <th>rating</th>\n",
              "      <th>title</th>\n",
              "      <th>genres</th>\n",
              "      <th>title_cast</th>\n",
              "      <th>director</th>\n",
              "      <th>runtime</th>\n",
              "      <th>budget</th>\n",
              "      <th>plot_keywords</th>\n",
              "      <th>rating_year</th>\n",
              "    </tr>\n",
              "  </thead>\n",
              "  <tbody>\n",
              "    <tr>\n",
              "      <th>0</th>\n",
              "      <td>5163</td>\n",
              "      <td>57669</td>\n",
              "      <td>4.0</td>\n",
              "      <td>In Bruges (2008)</td>\n",
              "      <td>Comedy|Crime|Drama|Thriller</td>\n",
              "      <td>Elizabeth Berrington|Rudy Blomme|Olivier Bonjo...</td>\n",
              "      <td>Martin McDonagh</td>\n",
              "      <td>107.0</td>\n",
              "      <td>$15,000,000</td>\n",
              "      <td>dwarf|bruges|irish|hitman</td>\n",
              "      <td>2018</td>\n",
              "    </tr>\n",
              "    <tr>\n",
              "      <th>1</th>\n",
              "      <td>106343</td>\n",
              "      <td>5</td>\n",
              "      <td>4.5</td>\n",
              "      <td>Father of the Bride Part II (1995)</td>\n",
              "      <td>Comedy</td>\n",
              "      <td>Steve Martin|Diane Keaton|Martin Short|Kimberl...</td>\n",
              "      <td>Albert Hackett</td>\n",
              "      <td>106.0</td>\n",
              "      <td>$30,000,000</td>\n",
              "      <td>fatherhood|doberman|dog|mansion</td>\n",
              "      <td>2008</td>\n",
              "    </tr>\n",
              "    <tr>\n",
              "      <th>2</th>\n",
              "      <td>146790</td>\n",
              "      <td>5459</td>\n",
              "      <td>5.0</td>\n",
              "      <td>Men in Black II (a.k.a. MIIB) (a.k.a. MIB 2) (...</td>\n",
              "      <td>Action|Comedy|Sci-Fi</td>\n",
              "      <td>Tommy Lee Jones|Will Smith|Rip Torn|Lara Flynn...</td>\n",
              "      <td>Lowell Cunningham</td>\n",
              "      <td>88.0</td>\n",
              "      <td>$140,000,000</td>\n",
              "      <td>lingerie|michael jackson character|shorthaired...</td>\n",
              "      <td>2004</td>\n",
              "    </tr>\n",
              "    <tr>\n",
              "      <th>3</th>\n",
              "      <td>106362</td>\n",
              "      <td>32296</td>\n",
              "      <td>2.0</td>\n",
              "      <td>Miss Congeniality 2: Armed and Fabulous (2005)</td>\n",
              "      <td>Adventure|Comedy|Crime</td>\n",
              "      <td>Sandra Bullock|Regina King|Enrique Murciano|Wi...</td>\n",
              "      <td>Marc Lawrence</td>\n",
              "      <td>115.0</td>\n",
              "      <td>$45,000,000</td>\n",
              "      <td>female protagonist|cleave gag|good woman|fbi</td>\n",
              "      <td>2015</td>\n",
              "    </tr>\n",
              "    <tr>\n",
              "      <th>4</th>\n",
              "      <td>9041</td>\n",
              "      <td>366</td>\n",
              "      <td>3.0</td>\n",
              "      <td>Wes Craven's New Nightmare (Nightmare on Elm S...</td>\n",
              "      <td>Drama|Horror|Mystery|Thriller</td>\n",
              "      <td>Jeff Davis|Heather Langenkamp|Miko Hughes|Matt...</td>\n",
              "      <td>Wes Craven</td>\n",
              "      <td>112.0</td>\n",
              "      <td>$8,000,000</td>\n",
              "      <td>freddy krueger|elm street|famous director as h...</td>\n",
              "      <td>1996</td>\n",
              "    </tr>\n",
              "  </tbody>\n",
              "</table>\n",
              "</div>"
            ]
          },
          "metadata": {
            "tags": []
          },
          "execution_count": 31
        }
      ]
    },
    {
      "cell_type": "markdown",
      "metadata": {
        "id": "LwrRnInorwau"
      },
      "source": [
        "<a id=\"eda\"></a>\n",
        "# 7. Exploratory Data Analysis"
      ]
    },
    {
      "cell_type": "markdown",
      "metadata": {
        "id": "cdOK7ErYrwau"
      },
      "source": [
        "Exploratory Data Analysis (EDA) is great to carry out because it allows for the analysis of the data to extract any information that may be useful in modelling or pick up any trends that the models can miss. It is also useed to summarise the main characteristics of the data in order to make any insghts and recommendations.\n"
      ]
    },
    {
      "cell_type": "code",
      "metadata": {
        "trusted": true,
        "id": "aMjxY6UIrwau"
      },
      "source": [
        "train1 = train.copy()\n",
        "train1.drop('timestamp', axis = 1, inplace = True)"
      ],
      "execution_count": null,
      "outputs": []
    },
    {
      "cell_type": "code",
      "metadata": {
        "trusted": true,
        "id": "qOBjHddJrwau"
      },
      "source": [
        "ratings_per_user = train1.groupby('userId')['rating'].count().reset_index().sort_values('rating', ascending=False)"
      ],
      "execution_count": null,
      "outputs": []
    },
    {
      "cell_type": "code",
      "metadata": {
        "trusted": true,
        "id": "cs11BF2zrwau",
        "outputId": "4cc8325b-afbc-4e0e-ffc7-0567f2d1cb44"
      },
      "source": [
        "ratings_per_user.head(10)"
      ],
      "execution_count": null,
      "outputs": [
        {
          "output_type": "execute_result",
          "data": {
            "text/plain": [
              "        userId  rating\n",
              "72314    72315   12952\n",
              "80973    80974    3680\n",
              "137292  137293    3588\n",
              "33843    33844    3208\n",
              "20054    20055    3050\n",
              "109730  109731    2671\n",
              "49402    49403    2670\n",
              "92045    92046    2579\n",
              "110970  110971    2288\n",
              "30878    30879    2284"
            ],
            "text/html": [
              "<div>\n",
              "<style scoped>\n",
              "    .dataframe tbody tr th:only-of-type {\n",
              "        vertical-align: middle;\n",
              "    }\n",
              "\n",
              "    .dataframe tbody tr th {\n",
              "        vertical-align: top;\n",
              "    }\n",
              "\n",
              "    .dataframe thead th {\n",
              "        text-align: right;\n",
              "    }\n",
              "</style>\n",
              "<table border=\"1\" class=\"dataframe\">\n",
              "  <thead>\n",
              "    <tr style=\"text-align: right;\">\n",
              "      <th></th>\n",
              "      <th>userId</th>\n",
              "      <th>rating</th>\n",
              "    </tr>\n",
              "  </thead>\n",
              "  <tbody>\n",
              "    <tr>\n",
              "      <th>72314</th>\n",
              "      <td>72315</td>\n",
              "      <td>12952</td>\n",
              "    </tr>\n",
              "    <tr>\n",
              "      <th>80973</th>\n",
              "      <td>80974</td>\n",
              "      <td>3680</td>\n",
              "    </tr>\n",
              "    <tr>\n",
              "      <th>137292</th>\n",
              "      <td>137293</td>\n",
              "      <td>3588</td>\n",
              "    </tr>\n",
              "    <tr>\n",
              "      <th>33843</th>\n",
              "      <td>33844</td>\n",
              "      <td>3208</td>\n",
              "    </tr>\n",
              "    <tr>\n",
              "      <th>20054</th>\n",
              "      <td>20055</td>\n",
              "      <td>3050</td>\n",
              "    </tr>\n",
              "    <tr>\n",
              "      <th>109730</th>\n",
              "      <td>109731</td>\n",
              "      <td>2671</td>\n",
              "    </tr>\n",
              "    <tr>\n",
              "      <th>49402</th>\n",
              "      <td>49403</td>\n",
              "      <td>2670</td>\n",
              "    </tr>\n",
              "    <tr>\n",
              "      <th>92045</th>\n",
              "      <td>92046</td>\n",
              "      <td>2579</td>\n",
              "    </tr>\n",
              "    <tr>\n",
              "      <th>110970</th>\n",
              "      <td>110971</td>\n",
              "      <td>2288</td>\n",
              "    </tr>\n",
              "    <tr>\n",
              "      <th>30878</th>\n",
              "      <td>30879</td>\n",
              "      <td>2284</td>\n",
              "    </tr>\n",
              "  </tbody>\n",
              "</table>\n",
              "</div>"
            ]
          },
          "metadata": {
            "tags": []
          },
          "execution_count": 34
        }
      ]
    },
    {
      "cell_type": "markdown",
      "metadata": {
        "id": "SZ26PF-frwau"
      },
      "source": [
        "The distribution of the number of ratings would be a great visualisation in order to see how the movies are ranked."
      ]
    },
    {
      "cell_type": "code",
      "metadata": {
        "trusted": true,
        "id": "qlwDly_Trwav",
        "outputId": "e2cccf48-b684-4d68-8482-6f60305ad06b"
      },
      "source": [
        "sns.countplot(x='rating', data=train).set_title('Distribution of ratings')\n",
        "plt.xlabel('Rating')\n",
        "plt.ylabel('Count')\n",
        "plt.ticklabel_format(style='plain', axis='y')\n",
        "plt.show()"
      ],
      "execution_count": null,
      "outputs": [
        {
          "output_type": "display_data",
          "data": {
            "text/plain": [
              "<Figure size 432x288 with 1 Axes>"
            ],
            "image/png": "[encoded data removed]"
          },
          "metadata": {
            "tags": [],
            "needs_background": "light"
          }
        }
      ]
    },
    {
      "cell_type": "markdown",
      "metadata": {
        "id": "u0DFhYngrwav"
      },
      "source": [
        "The distribution of the ratings indicate that most movies have a rating of atleast 3 and a rating of 4 is the most popular. The mean rating is around 3.5. This means that most of the movies in the dataset have a fairly good score. It also means that the ratings are skewed to the right which is proven by the mean and median calcualtion below. Further, it can inferred that based on the movies which are rated below 3, 15.4% of the movies in the dataset are \"bad\" movies."
      ]
    },
    {
      "cell_type": "code",
      "metadata": {
        "trusted": true,
        "id": "nQM5cUX2rwav",
        "outputId": "bdc8b372-7444-4550-d0f0-f91750ca5d2e"
      },
      "source": [
        "print(train['rating'].mean())\n",
        "print(train['rating'].median())"
      ],
      "execution_count": null,
      "outputs": [
        {
          "output_type": "stream",
          "text": [
            "3.5333951730983424\n",
            "3.5\n"
          ],
          "name": "stdout"
        }
      ]
    },
    {
      "cell_type": "markdown",
      "metadata": {
        "trusted": true,
        "id": "AKWfkB93rwav"
      },
      "source": [
        "The movies can be ranked according to their average ratings."
      ]
    },
    {
      "cell_type": "code",
      "metadata": {
        "trusted": true,
        "id": "aLkMrjlYrwaw"
      },
      "source": [
        "ranked_movies = pd.DataFrame(combined_df.groupby('title')['rating'].mean().\n",
        "                             sort_values(ascending=False))\n"
      ],
      "execution_count": null,
      "outputs": []
    },
    {
      "cell_type": "code",
      "metadata": {
        "trusted": true,
        "id": "e_BuFO9Rrwaw",
        "outputId": "1b69f108-94dd-450b-f0ae-db037dbf57f3"
      },
      "source": [
        "ranked_movies.head()"
      ],
      "execution_count": null,
      "outputs": [
        {
          "output_type": "execute_result",
          "data": {
            "text/plain": [
              "                           rating\n",
              "title                            \n",
              "Final Recourse (2013)         5.0\n",
              "Lady and the Tramp (2019)     5.0\n",
              "Virasat (1997)                5.0\n",
              "Committed (2014)              5.0\n",
              "Sole Proprietor (2016)        5.0"
            ],
            "text/html": [
              "<div>\n",
              "<style scoped>\n",
              "    .dataframe tbody tr th:only-of-type {\n",
              "        vertical-align: middle;\n",
              "    }\n",
              "\n",
              "    .dataframe tbody tr th {\n",
              "        vertical-align: top;\n",
              "    }\n",
              "\n",
              "    .dataframe thead th {\n",
              "        text-align: right;\n",
              "    }\n",
              "</style>\n",
              "<table border=\"1\" class=\"dataframe\">\n",
              "  <thead>\n",
              "    <tr style=\"text-align: right;\">\n",
              "      <th></th>\n",
              "      <th>rating</th>\n",
              "    </tr>\n",
              "    <tr>\n",
              "      <th>title</th>\n",
              "      <th></th>\n",
              "    </tr>\n",
              "  </thead>\n",
              "  <tbody>\n",
              "    <tr>\n",
              "      <th>Final Recourse (2013)</th>\n",
              "      <td>5.0</td>\n",
              "    </tr>\n",
              "    <tr>\n",
              "      <th>Lady and the Tramp (2019)</th>\n",
              "      <td>5.0</td>\n",
              "    </tr>\n",
              "    <tr>\n",
              "      <th>Virasat (1997)</th>\n",
              "      <td>5.0</td>\n",
              "    </tr>\n",
              "    <tr>\n",
              "      <th>Committed (2014)</th>\n",
              "      <td>5.0</td>\n",
              "    </tr>\n",
              "    <tr>\n",
              "      <th>Sole Proprietor (2016)</th>\n",
              "      <td>5.0</td>\n",
              "    </tr>\n",
              "  </tbody>\n",
              "</table>\n",
              "</div>"
            ]
          },
          "metadata": {
            "tags": []
          },
          "execution_count": 46
        }
      ]
    },
    {
      "cell_type": "markdown",
      "metadata": {
        "id": "4wlKF0HXrwaw"
      },
      "source": [
        "This table is not an accurate reflection of the best movies as some of the movies have only have a few ratings. This can influence its average rating. For example, movie A will have only one rating of 5 thus will have an average rating of 5. Contrastingly, movie B which has an average rating of 4.5 may have a 100 ratings. One could easily think that movie A is better than movie B but its not true as based on the number of ratings movie B is actually better. Therefore, it would be better to determine the best movie best on both the number of ratings it has and also its average rating as shown below."
      ]
    },
    {
      "cell_type": "code",
      "metadata": {
        "trusted": true,
        "id": "SQSY0fQfrwaw"
      },
      "source": [
        "ranked_movies['No_of_ratings'] = combined_df.groupby('title')['rating'].count()"
      ],
      "execution_count": null,
      "outputs": []
    },
    {
      "cell_type": "code",
      "metadata": {
        "trusted": true,
        "id": "DBnu_vWWrwaw",
        "outputId": "182b5fd2-d270-487c-91c8-131666bb0c43"
      },
      "source": [
        "ranked_movies.sort_values(by=['No_of_ratings', 'rating'],\n",
        "                          ascending=False).head()"
      ],
      "execution_count": null,
      "outputs": [
        {
          "output_type": "execute_result",
          "data": {
            "text/plain": [
              "                                    rating  No_of_ratings\n",
              "title                                                    \n",
              "Shawshank Redemption, The (1994)  4.417624          32831\n",
              "Forrest Gump (1994)               4.047216          32383\n",
              "Pulp Fiction (1994)               4.195097          31697\n",
              "Silence of the Lambs, The (1991)  4.144172          29444\n",
              "Matrix, The (1999)                4.154253          29014"
            ],
            "text/html": [
              "<div>\n",
              "<style scoped>\n",
              "    .dataframe tbody tr th:only-of-type {\n",
              "        vertical-align: middle;\n",
              "    }\n",
              "\n",
              "    .dataframe tbody tr th {\n",
              "        vertical-align: top;\n",
              "    }\n",
              "\n",
              "    .dataframe thead th {\n",
              "        text-align: right;\n",
              "    }\n",
              "</style>\n",
              "<table border=\"1\" class=\"dataframe\">\n",
              "  <thead>\n",
              "    <tr style=\"text-align: right;\">\n",
              "      <th></th>\n",
              "      <th>rating</th>\n",
              "      <th>No_of_ratings</th>\n",
              "    </tr>\n",
              "    <tr>\n",
              "      <th>title</th>\n",
              "      <th></th>\n",
              "      <th></th>\n",
              "    </tr>\n",
              "  </thead>\n",
              "  <tbody>\n",
              "    <tr>\n",
              "      <th>Shawshank Redemption, The (1994)</th>\n",
              "      <td>4.417624</td>\n",
              "      <td>32831</td>\n",
              "    </tr>\n",
              "    <tr>\n",
              "      <th>Forrest Gump (1994)</th>\n",
              "      <td>4.047216</td>\n",
              "      <td>32383</td>\n",
              "    </tr>\n",
              "    <tr>\n",
              "      <th>Pulp Fiction (1994)</th>\n",
              "      <td>4.195097</td>\n",
              "      <td>31697</td>\n",
              "    </tr>\n",
              "    <tr>\n",
              "      <th>Silence of the Lambs, The (1991)</th>\n",
              "      <td>4.144172</td>\n",
              "      <td>29444</td>\n",
              "    </tr>\n",
              "    <tr>\n",
              "      <th>Matrix, The (1999)</th>\n",
              "      <td>4.154253</td>\n",
              "      <td>29014</td>\n",
              "    </tr>\n",
              "  </tbody>\n",
              "</table>\n",
              "</div>"
            ]
          },
          "metadata": {
            "tags": []
          },
          "execution_count": 40
        }
      ]
    },
    {
      "cell_type": "markdown",
      "metadata": {
        "id": "fPEFxJI5rwax"
      },
      "source": [
        "As indicated by the table,the best movies are those that have both average high ratings and also a high number of ratings as they have been rated highly by large quantities of people. The average rating decreases with the decreasing number of ratings, i.e. they are positively correlated."
      ]
    },
    {
      "cell_type": "code",
      "metadata": {
        "trusted": true,
        "id": "NPZ5g3bRrwax",
        "outputId": "39053168-7946-4ed5-ecfa-dcc0b3172807"
      },
      "source": [
        "sns.scatterplot(x='rating', y='No_of_ratings', data=ranked_movies).set_title('Number of ratings per average rating per movie')\n",
        "plt.xlabel('Rating')\n",
        "plt.ylabel('Number of ratings')\n",
        "plt.show()"
      ],
      "execution_count": null,
      "outputs": [
        {
          "output_type": "display_data",
          "data": {
            "text/plain": [
              "<Figure size 432x288 with 1 Axes>"
            ],
            "image/png": "[encoded data removed]"
          },
          "metadata": {
            "tags": [],
            "needs_background": "light"
          }
        }
      ]
    },
    {
      "cell_type": "markdown",
      "metadata": {
        "id": "cWJRikIArwax"
      },
      "source": [
        "As expected, the higher the average ratings, the higher the number of ratings the movie has."
      ]
    },
    {
      "cell_type": "code",
      "metadata": {
        "trusted": true,
        "id": "FmngGzHgrwax",
        "outputId": "3942c8e9-6b5b-4c37-f436-f1bc07e3de8d"
      },
      "source": [
        "best_director = pd.DataFrame(combined_df.groupby('director')['rating'].mean().\n",
        "                             sort_values(ascending=False))\n",
        "best_director['No_of_movies'] = combined_df.groupby('director')['rating'].count()\n",
        "best_director.sort_values(by=['No_of_movies', 'rating'], ascending=False).head()"
      ],
      "execution_count": null,
      "outputs": [
        {
          "output_type": "execute_result",
          "data": {
            "text/plain": [
              "                     rating  No_of_movies\n",
              "director                                 \n",
              "Quentin Tarantino  3.936571        109919\n",
              "Michael Crichton   3.273370         65157\n",
              "J.R.R. Tolkien     4.080118         62963\n",
              "Lilly Wachowski    3.808348         60988\n",
              "Stephen King       4.049956         59903"
            ],
            "text/html": [
              "<div>\n",
              "<style scoped>\n",
              "    .dataframe tbody tr th:only-of-type {\n",
              "        vertical-align: middle;\n",
              "    }\n",
              "\n",
              "    .dataframe tbody tr th {\n",
              "        vertical-align: top;\n",
              "    }\n",
              "\n",
              "    .dataframe thead th {\n",
              "        text-align: right;\n",
              "    }\n",
              "</style>\n",
              "<table border=\"1\" class=\"dataframe\">\n",
              "  <thead>\n",
              "    <tr style=\"text-align: right;\">\n",
              "      <th></th>\n",
              "      <th>rating</th>\n",
              "      <th>No_of_movies</th>\n",
              "    </tr>\n",
              "    <tr>\n",
              "      <th>director</th>\n",
              "      <th></th>\n",
              "      <th></th>\n",
              "    </tr>\n",
              "  </thead>\n",
              "  <tbody>\n",
              "    <tr>\n",
              "      <th>Quentin Tarantino</th>\n",
              "      <td>3.936571</td>\n",
              "      <td>109919</td>\n",
              "    </tr>\n",
              "    <tr>\n",
              "      <th>Michael Crichton</th>\n",
              "      <td>3.273370</td>\n",
              "      <td>65157</td>\n",
              "    </tr>\n",
              "    <tr>\n",
              "      <th>J.R.R. Tolkien</th>\n",
              "      <td>4.080118</td>\n",
              "      <td>62963</td>\n",
              "    </tr>\n",
              "    <tr>\n",
              "      <th>Lilly Wachowski</th>\n",
              "      <td>3.808348</td>\n",
              "      <td>60988</td>\n",
              "    </tr>\n",
              "    <tr>\n",
              "      <th>Stephen King</th>\n",
              "      <td>4.049956</td>\n",
              "      <td>59903</td>\n",
              "    </tr>\n",
              "  </tbody>\n",
              "</table>\n",
              "</div>"
            ]
          },
          "metadata": {
            "tags": []
          },
          "execution_count": 51
        }
      ]
    },
    {
      "cell_type": "markdown",
      "metadata": {
        "id": "5MTH9UCQrway"
      },
      "source": [
        "The directors can also be ranked in terms of the average rating that their movies have achieved and also the number of movies they have played a role in producing. It can be said that a director has built a reputation for him/herself."
      ]
    },
    {
      "cell_type": "code",
      "metadata": {
        "trusted": true,
        "id": "lCVob902rway",
        "outputId": "c86ccb4c-9aba-40f3-c451-36d98c5a4f6f"
      },
      "source": [
        "sns.scatterplot(x = 'rating', y = 'No_of_movies', data = best_director).set_title('Number of ratings per average rating per director')\n",
        "plt.xlabel('Rating')\n",
        "plt.ylabel('Number of ratings')\n",
        "plt.show()"
      ],
      "execution_count": null,
      "outputs": [
        {
          "output_type": "display_data",
          "data": {
            "text/plain": [
              "<Figure size 432x288 with 1 Axes>"
            ],
            "image/png": "[encoded data removed]"
          },
          "metadata": {
            "tags": [],
            "needs_background": "light"
          }
        }
      ]
    },
    {
      "cell_type": "markdown",
      "metadata": {
        "id": "LEF4bkKerway"
      },
      "source": [
        "As expected, most directors with a high number of movies have average to good movie ratings."
      ]
    },
    {
      "cell_type": "markdown",
      "metadata": {
        "id": "uDbqQhDIrway"
      },
      "source": [
        "It would be great to determine if the ratings are affected by the year at which the ratings were made i.e. do the ratings decrease as the movie gets older? With changes in technology, audio and visuals are constantly improving. Due to this, people might give an older moviewith a low score as years progress as they would be comparing it with the current movies with better graphics."
      ]
    },
    {
      "cell_type": "code",
      "metadata": {
        "trusted": true,
        "id": "SCxkkfSVrway"
      },
      "source": [
        "yearly_rating = pd.DataFrame(combined_df.groupby(['title','rating_year'])['rating'].mean())"
      ],
      "execution_count": null,
      "outputs": []
    },
    {
      "cell_type": "code",
      "metadata": {
        "trusted": true,
        "id": "pVZUkh8Qrway"
      },
      "source": [
        "yearly_rating.reset_index(inplace = True)"
      ],
      "execution_count": null,
      "outputs": []
    },
    {
      "cell_type": "code",
      "metadata": {
        "trusted": true,
        "id": "Too52R_2rwaz"
      },
      "source": [
        "count_ratings = pd.DataFrame(yearly_rating.groupby('title')['rating_year'].count().sort_values(ascending = False).head(10))"
      ],
      "execution_count": null,
      "outputs": []
    },
    {
      "cell_type": "code",
      "metadata": {
        "trusted": true,
        "id": "21M9mXLvrwaz"
      },
      "source": [
        "count_ratings.reset_index(inplace = True)"
      ],
      "execution_count": null,
      "outputs": []
    },
    {
      "cell_type": "code",
      "metadata": {
        "trusted": true,
        "id": "KJWUe1NVrwaz",
        "outputId": "8406d1db-1ca1-48d9-9316-e8393ced4eb7"
      },
      "source": [
        "sns.lineplot(x=\"rating_year\", y=\"rating\", hue=\"title\", \n",
        "             data=yearly_rating[yearly_rating['title'].\n",
        "                                isin(count_ratings['title'])]).set_title('Change in movie ratings per year')\n",
        "plt.xlabel('Year')\n",
        "plt.ylabel('Rating')\n",
        "plt.legend(bbox_to_anchor=(1.05, 1), loc=2, borderaxespad=0.)"
      ],
      "execution_count": null,
      "outputs": [
        {
          "output_type": "execute_result",
          "data": {
            "text/plain": [
              "<matplotlib.legend.Legend at 0x7f5521b84f10>"
            ]
          },
          "metadata": {
            "tags": []
          },
          "execution_count": 60
        },
        {
          "output_type": "display_data",
          "data": {
            "text/plain": [
              "<Figure size 432x288 with 1 Axes>"
            ],
            "image/png": "[encoded data removed]"
          },
          "metadata": {
            "tags": [],
            "needs_background": "light"
          }
        }
      ]
    },
    {
      "cell_type": "markdown",
      "metadata": {
        "id": "gv3FiGtjrwaz"
      },
      "source": [
        "From the plot above, there is a slight drop from 1995 to 2020 in annual moving ratings howver it is not significant, at all. It seems as if the ratings given to a movie each year are not hugely affected by the year that the rating was given (there is no pattern in the ratings). From this, it can be concluded that the year of the rating has no significance in predicting the ratings of the movies."
      ]
    },
    {
      "cell_type": "markdown",
      "metadata": {
        "id": "KT5Sgj4Trwaz"
      },
      "source": [
        "Movie duration can also be an important feature to consider when making a rating or when recommending a movie to someone as there might be viewers who do not like watching long movies or vice versa."
      ]
    },
    {
      "cell_type": "code",
      "metadata": {
        "trusted": true,
        "id": "xG9za_NDrwaz",
        "outputId": "2327807e-1b5b-4f12-ba77-191bf1215f3b"
      },
      "source": [
        "sns.violinplot(x = 'runtime', data = combined_df,).set_title('Distribution of Movie Duration')\n",
        "plt.show()"
      ],
      "execution_count": null,
      "outputs": [
        {
          "output_type": "display_data",
          "data": {
            "text/plain": [
              "<Figure size 432x288 with 1 Axes>"
            ],
            "image/png": "[encoded data removed]"
          },
          "metadata": {
            "tags": [],
            "needs_background": "light"
          }
        }
      ]
    },
    {
      "cell_type": "code",
      "metadata": {
        "trusted": true,
        "id": "opsqYqC7rwa0",
        "outputId": "1820b99a-c1ad-4161-bfa1-c7e70d6d3055"
      },
      "source": [
        "print('runtime mean: ', combined_df['runtime'].mean())\n",
        "print('runtime standard deviation: ', combined_df['runtime'].std())"
      ],
      "execution_count": null,
      "outputs": [
        {
          "output_type": "stream",
          "text": [
            "runtime mean:  116.09646355365558\n",
            "runtime standard deviation:  24.09290124779007\n"
          ],
          "name": "stdout"
        }
      ]
    },
    {
      "cell_type": "markdown",
      "metadata": {
        "id": "BrocH5Iirwa0"
      },
      "source": [
        "Most of the runtimes are centered around the mean as shown by the violin plot above and the variation between the length of the movies is quite small, as shown by the standard deviation. There are also a few outliers. Also, realistically speaking, runtime is not really important in determining if a person will watch a movie because if they really do not like watching long movies, they can simply watch it in intervals."
      ]
    },
    {
      "cell_type": "markdown",
      "metadata": {
        "id": "XHbBEYK2rwa0"
      },
      "source": [
        "Each movie is asscoiated with a set of genres."
      ]
    },
    {
      "cell_type": "code",
      "metadata": {
        "trusted": true,
        "id": "7YT7Eumyrwa0"
      },
      "source": [
        "list_list = list(combined_df['genres'].str.split('|'))"
      ],
      "execution_count": null,
      "outputs": []
    },
    {
      "cell_type": "code",
      "metadata": {
        "trusted": true,
        "id": "6trtOxwMrwa1",
        "outputId": "69fee219-31da-405a-f3e1-2b01bed00bb8"
      },
      "source": [
        "genres_list = []\n",
        "\n",
        "for i in list_list:\n",
        "    for j in i:\n",
        "        genres_list.append(j)\n",
        "        \n",
        "    \n",
        "print(genres_list[0:11])\n",
        "print(len(genres_list))"
      ],
      "execution_count": null,
      "outputs": [
        {
          "output_type": "stream",
          "text": [
            "['Comedy', 'Crime', 'Drama', 'Thriller', 'Comedy', 'Action', 'Comedy', 'Sci-Fi', 'Adventure', 'Comedy', 'Crime']\n",
            "27120044\n"
          ],
          "name": "stdout"
        }
      ]
    },
    {
      "cell_type": "code",
      "metadata": {
        "trusted": true,
        "id": "DL4xe6Iwrwa1"
      },
      "source": [
        "genres_list = pd.DataFrame(genres_list)"
      ],
      "execution_count": null,
      "outputs": []
    },
    {
      "cell_type": "code",
      "metadata": {
        "trusted": true,
        "id": "cEvtSgF6rwa1"
      },
      "source": [
        "genres_list.rename(columns = {0:'genres'}, inplace = True) "
      ],
      "execution_count": null,
      "outputs": []
    },
    {
      "cell_type": "code",
      "metadata": {
        "trusted": true,
        "id": "vzgLpgM6rwa1"
      },
      "source": [
        "genres_counted = pd.DataFrame(genres_list['genres'].value_counts())"
      ],
      "execution_count": null,
      "outputs": []
    },
    {
      "cell_type": "code",
      "metadata": {
        "trusted": true,
        "id": "wvtlpGmBrwa1",
        "outputId": "5cfe6326-04ae-43aa-e860-0748fbeb00ef"
      },
      "source": [
        "genres_counted.reset_index(inplace = True)\n",
        "genres_counted.rename(columns = {'index':'genres','genres':'count'}, inplace = True)\n",
        "genres_counted.head(50)"
      ],
      "execution_count": null,
      "outputs": [
        {
          "output_type": "execute_result",
          "data": {
            "text/plain": [
              "                genres    count\n",
              "0                Drama  4384454\n",
              "1               Comedy  3570248\n",
              "2               Action  2979298\n",
              "3             Thriller  2703433\n",
              "4            Adventure  2333917\n",
              "5              Romance  1798473\n",
              "6               Sci-Fi  1728669\n",
              "7                Crime  1674612\n",
              "8              Fantasy  1133943\n",
              "9             Children   848710\n",
              "10             Mystery   805277\n",
              "11              Horror   756757\n",
              "12           Animation   653001\n",
              "13                 War   506648\n",
              "14                IMAX   424834\n",
              "15             Musical   385695\n",
              "16             Western   193496\n",
              "17         Documentary   128742\n",
              "18           Film-Noir    99186\n",
              "19  (no genres listed)    10651"
            ],
            "text/html": [
              "<div>\n",
              "<style scoped>\n",
              "    .dataframe tbody tr th:only-of-type {\n",
              "        vertical-align: middle;\n",
              "    }\n",
              "\n",
              "    .dataframe tbody tr th {\n",
              "        vertical-align: top;\n",
              "    }\n",
              "\n",
              "    .dataframe thead th {\n",
              "        text-align: right;\n",
              "    }\n",
              "</style>\n",
              "<table border=\"1\" class=\"dataframe\">\n",
              "  <thead>\n",
              "    <tr style=\"text-align: right;\">\n",
              "      <th></th>\n",
              "      <th>genres</th>\n",
              "      <th>count</th>\n",
              "    </tr>\n",
              "  </thead>\n",
              "  <tbody>\n",
              "    <tr>\n",
              "      <th>0</th>\n",
              "      <td>Drama</td>\n",
              "      <td>4384454</td>\n",
              "    </tr>\n",
              "    <tr>\n",
              "      <th>1</th>\n",
              "      <td>Comedy</td>\n",
              "      <td>3570248</td>\n",
              "    </tr>\n",
              "    <tr>\n",
              "      <th>2</th>\n",
              "      <td>Action</td>\n",
              "      <td>2979298</td>\n",
              "    </tr>\n",
              "    <tr>\n",
              "      <th>3</th>\n",
              "      <td>Thriller</td>\n",
              "      <td>2703433</td>\n",
              "    </tr>\n",
              "    <tr>\n",
              "      <th>4</th>\n",
              "      <td>Adventure</td>\n",
              "      <td>2333917</td>\n",
              "    </tr>\n",
              "    <tr>\n",
              "      <th>5</th>\n",
              "      <td>Romance</td>\n",
              "      <td>1798473</td>\n",
              "    </tr>\n",
              "    <tr>\n",
              "      <th>6</th>\n",
              "      <td>Sci-Fi</td>\n",
              "      <td>1728669</td>\n",
              "    </tr>\n",
              "    <tr>\n",
              "      <th>7</th>\n",
              "      <td>Crime</td>\n",
              "      <td>1674612</td>\n",
              "    </tr>\n",
              "    <tr>\n",
              "      <th>8</th>\n",
              "      <td>Fantasy</td>\n",
              "      <td>1133943</td>\n",
              "    </tr>\n",
              "    <tr>\n",
              "      <th>9</th>\n",
              "      <td>Children</td>\n",
              "      <td>848710</td>\n",
              "    </tr>\n",
              "    <tr>\n",
              "      <th>10</th>\n",
              "      <td>Mystery</td>\n",
              "      <td>805277</td>\n",
              "    </tr>\n",
              "    <tr>\n",
              "      <th>11</th>\n",
              "      <td>Horror</td>\n",
              "      <td>756757</td>\n",
              "    </tr>\n",
              "    <tr>\n",
              "      <th>12</th>\n",
              "      <td>Animation</td>\n",
              "      <td>653001</td>\n",
              "    </tr>\n",
              "    <tr>\n",
              "      <th>13</th>\n",
              "      <td>War</td>\n",
              "      <td>506648</td>\n",
              "    </tr>\n",
              "    <tr>\n",
              "      <th>14</th>\n",
              "      <td>IMAX</td>\n",
              "      <td>424834</td>\n",
              "    </tr>\n",
              "    <tr>\n",
              "      <th>15</th>\n",
              "      <td>Musical</td>\n",
              "      <td>385695</td>\n",
              "    </tr>\n",
              "    <tr>\n",
              "      <th>16</th>\n",
              "      <td>Western</td>\n",
              "      <td>193496</td>\n",
              "    </tr>\n",
              "    <tr>\n",
              "      <th>17</th>\n",
              "      <td>Documentary</td>\n",
              "      <td>128742</td>\n",
              "    </tr>\n",
              "    <tr>\n",
              "      <th>18</th>\n",
              "      <td>Film-Noir</td>\n",
              "      <td>99186</td>\n",
              "    </tr>\n",
              "    <tr>\n",
              "      <th>19</th>\n",
              "      <td>(no genres listed)</td>\n",
              "      <td>10651</td>\n",
              "    </tr>\n",
              "  </tbody>\n",
              "</table>\n",
              "</div>"
            ]
          },
          "metadata": {
            "tags": []
          },
          "execution_count": 68
        }
      ]
    },
    {
      "cell_type": "markdown",
      "metadata": {
        "id": "sJ43NHBorwa2"
      },
      "source": [
        "The table shows the number of times that a genre appears through all the movies in the dataset. There are 10 651 movies which do not have a genre provided, as seen in row 19. Rows 14 also indicates that IMAX is considered a genre."
      ]
    },
    {
      "cell_type": "code",
      "metadata": {
        "trusted": true,
        "id": "hEgaBeBErwa2",
        "outputId": "c6acbc10-e031-4b6b-b1da-952c9812d8e6"
      },
      "source": [
        "sns.set(style=\"darkgrid\")\n",
        "sns.barplot(x='count', y=genres_counted['genres'].head(20),\n",
        "            data=genres_counted, palette='Set1').set_title('Distribution of movie genres')\n",
        "plt.xlabel('Count')\n",
        "plt.ylabel('Genre')\n",
        "plt.ticklabel_format(style='plain', axis='x')\n",
        "plt.show()"
      ],
      "execution_count": null,
      "outputs": [
        {
          "output_type": "display_data",
          "data": {
            "text/plain": [
              "<Figure size 432x288 with 1 Axes>"
            ],
            "image/png": "[encoded data removed]"
          },
          "metadata": {
            "tags": []
          }
        }
      ]
    },
    {
      "cell_type": "markdown",
      "metadata": {
        "id": "LyufSsQprwa2"
      },
      "source": [
        "Drama is the most common genre throughout the movies. Genres are important as they show the preferences of viewers and based on the genre that a viewer likes, movies of the same genre can be recommended.\n",
        "\n",
        "Movies in the dataset are associated with tags. The relevance of these tags is also provided."
      ]
    },
    {
      "cell_type": "code",
      "metadata": {
        "trusted": true,
        "id": "kG222Tsrrwa2"
      },
      "source": [
        "genome_df = pd.merge(gen_scores,gen_tgs, how = 'left',on = 'tagId')"
      ],
      "execution_count": null,
      "outputs": []
    },
    {
      "cell_type": "code",
      "metadata": {
        "trusted": true,
        "id": "DDI8J6Zhrwa3",
        "outputId": "8a8ddbc1-d251-44d1-d122-2cdcc66f889f"
      },
      "source": [
        "genome_df.head()"
      ],
      "execution_count": null,
      "outputs": [
        {
          "output_type": "execute_result",
          "data": {
            "text/plain": [
              "   movieId  tagId  relevance           tag\n",
              "0        1      1    0.02875           007\n",
              "1        1      2    0.02375  007 (series)\n",
              "2        1      3    0.06250  18th century\n",
              "3        1      4    0.07575         1920s\n",
              "4        1      5    0.14075         1930s"
            ],
            "text/html": [
              "<div>\n",
              "<style scoped>\n",
              "    .dataframe tbody tr th:only-of-type {\n",
              "        vertical-align: middle;\n",
              "    }\n",
              "\n",
              "    .dataframe tbody tr th {\n",
              "        vertical-align: top;\n",
              "    }\n",
              "\n",
              "    .dataframe thead th {\n",
              "        text-align: right;\n",
              "    }\n",
              "</style>\n",
              "<table border=\"1\" class=\"dataframe\">\n",
              "  <thead>\n",
              "    <tr style=\"text-align: right;\">\n",
              "      <th></th>\n",
              "      <th>movieId</th>\n",
              "      <th>tagId</th>\n",
              "      <th>relevance</th>\n",
              "      <th>tag</th>\n",
              "    </tr>\n",
              "  </thead>\n",
              "  <tbody>\n",
              "    <tr>\n",
              "      <th>0</th>\n",
              "      <td>1</td>\n",
              "      <td>1</td>\n",
              "      <td>0.02875</td>\n",
              "      <td>007</td>\n",
              "    </tr>\n",
              "    <tr>\n",
              "      <th>1</th>\n",
              "      <td>1</td>\n",
              "      <td>2</td>\n",
              "      <td>0.02375</td>\n",
              "      <td>007 (series)</td>\n",
              "    </tr>\n",
              "    <tr>\n",
              "      <th>2</th>\n",
              "      <td>1</td>\n",
              "      <td>3</td>\n",
              "      <td>0.06250</td>\n",
              "      <td>18th century</td>\n",
              "    </tr>\n",
              "    <tr>\n",
              "      <th>3</th>\n",
              "      <td>1</td>\n",
              "      <td>4</td>\n",
              "      <td>0.07575</td>\n",
              "      <td>1920s</td>\n",
              "    </tr>\n",
              "    <tr>\n",
              "      <th>4</th>\n",
              "      <td>1</td>\n",
              "      <td>5</td>\n",
              "      <td>0.14075</td>\n",
              "      <td>1930s</td>\n",
              "    </tr>\n",
              "  </tbody>\n",
              "</table>\n",
              "</div>"
            ]
          },
          "metadata": {
            "tags": []
          },
          "execution_count": 71
        }
      ]
    },
    {
      "cell_type": "markdown",
      "metadata": {
        "id": "RZ7rDkFRrwa3"
      },
      "source": [
        "The relevance values range from 0 or near 0, to 1. A small value (closer to 0) indicates that a tag is irrelevant/less relevant to the movie and vice versa. The most important thing to do is to determine the most relevant tags and how many of them can be potentially used tin a good recommender system. "
      ]
    },
    {
      "cell_type": "code",
      "metadata": {
        "trusted": true,
        "id": "BtNay4VXrwa3"
      },
      "source": [
        "genre_tag_df = genome_df.merge(mvs, on = 'movieId', how = 'outer')\n"
      ],
      "execution_count": null,
      "outputs": []
    },
    {
      "cell_type": "code",
      "metadata": {
        "trusted": true,
        "id": "jk-OTqbdrwa3",
        "outputId": "87160e79-da25-4b3c-c8ee-952116d913cd"
      },
      "source": [
        "genre_tag_df.head()"
      ],
      "execution_count": null,
      "outputs": [
        {
          "output_type": "execute_result",
          "data": {
            "text/plain": [
              "   movieId  tagId  relevance           tag             title  \\\n",
              "0        1    1.0    0.02875           007  Toy Story (1995)   \n",
              "1        1    2.0    0.02375  007 (series)  Toy Story (1995)   \n",
              "2        1    3.0    0.06250  18th century  Toy Story (1995)   \n",
              "3        1    4.0    0.07575         1920s  Toy Story (1995)   \n",
              "4        1    5.0    0.14075         1930s  Toy Story (1995)   \n",
              "\n",
              "                                        genres  \n",
              "0  Adventure|Animation|Children|Comedy|Fantasy  \n",
              "1  Adventure|Animation|Children|Comedy|Fantasy  \n",
              "2  Adventure|Animation|Children|Comedy|Fantasy  \n",
              "3  Adventure|Animation|Children|Comedy|Fantasy  \n",
              "4  Adventure|Animation|Children|Comedy|Fantasy  "
            ],
            "text/html": [
              "<div>\n",
              "<style scoped>\n",
              "    .dataframe tbody tr th:only-of-type {\n",
              "        vertical-align: middle;\n",
              "    }\n",
              "\n",
              "    .dataframe tbody tr th {\n",
              "        vertical-align: top;\n",
              "    }\n",
              "\n",
              "    .dataframe thead th {\n",
              "        text-align: right;\n",
              "    }\n",
              "</style>\n",
              "<table border=\"1\" class=\"dataframe\">\n",
              "  <thead>\n",
              "    <tr style=\"text-align: right;\">\n",
              "      <th></th>\n",
              "      <th>movieId</th>\n",
              "      <th>tagId</th>\n",
              "      <th>relevance</th>\n",
              "      <th>tag</th>\n",
              "      <th>title</th>\n",
              "      <th>genres</th>\n",
              "    </tr>\n",
              "  </thead>\n",
              "  <tbody>\n",
              "    <tr>\n",
              "      <th>0</th>\n",
              "      <td>1</td>\n",
              "      <td>1.0</td>\n",
              "      <td>0.02875</td>\n",
              "      <td>007</td>\n",
              "      <td>Toy Story (1995)</td>\n",
              "      <td>Adventure|Animation|Children|Comedy|Fantasy</td>\n",
              "    </tr>\n",
              "    <tr>\n",
              "      <th>1</th>\n",
              "      <td>1</td>\n",
              "      <td>2.0</td>\n",
              "      <td>0.02375</td>\n",
              "      <td>007 (series)</td>\n",
              "      <td>Toy Story (1995)</td>\n",
              "      <td>Adventure|Animation|Children|Comedy|Fantasy</td>\n",
              "    </tr>\n",
              "    <tr>\n",
              "      <th>2</th>\n",
              "      <td>1</td>\n",
              "      <td>3.0</td>\n",
              "      <td>0.06250</td>\n",
              "      <td>18th century</td>\n",
              "      <td>Toy Story (1995)</td>\n",
              "      <td>Adventure|Animation|Children|Comedy|Fantasy</td>\n",
              "    </tr>\n",
              "    <tr>\n",
              "      <th>3</th>\n",
              "      <td>1</td>\n",
              "      <td>4.0</td>\n",
              "      <td>0.07575</td>\n",
              "      <td>1920s</td>\n",
              "      <td>Toy Story (1995)</td>\n",
              "      <td>Adventure|Animation|Children|Comedy|Fantasy</td>\n",
              "    </tr>\n",
              "    <tr>\n",
              "      <th>4</th>\n",
              "      <td>1</td>\n",
              "      <td>5.0</td>\n",
              "      <td>0.14075</td>\n",
              "      <td>1930s</td>\n",
              "      <td>Toy Story (1995)</td>\n",
              "      <td>Adventure|Animation|Children|Comedy|Fantasy</td>\n",
              "    </tr>\n",
              "  </tbody>\n",
              "</table>\n",
              "</div>"
            ]
          },
          "metadata": {
            "tags": []
          },
          "execution_count": 73
        }
      ]
    },
    {
      "cell_type": "code",
      "metadata": {
        "trusted": true,
        "id": "7zqZtIhIrwa4"
      },
      "source": [
        "genre_tag_df.dropna(axis = 0, inplace = True)##dropping movies with null tags\n",
        "genre_tag_df['tag_rank'] = genre_tag_df.groupby(\"movieId\")[\"relevance\"].rank(method = \"first\", \n",
        "                                                                                       ascending = False).astype('int64')"
      ],
      "execution_count": null,
      "outputs": []
    },
    {
      "cell_type": "code",
      "metadata": {
        "trusted": true,
        "id": "c3769NMDrwa4",
        "outputId": "03834284-15d7-406c-ed9d-94ec3d7eb670"
      },
      "source": [
        "genre_tag_df[genre_tag_df.title == 'We Were Soldiers (2002)'][['movieId','title','tag','relevance',\n",
        "                                                               'tag_rank']].sort_values(by = 'relevance'\n",
        "                                                                                              , ascending = False).head(10)"
      ],
      "execution_count": null,
      "outputs": [
        {
          "output_type": "execute_result",
          "data": {
            "text/plain": [
              "         movieId                    title             tag  relevance  tag_rank\n",
              "5237430     5152  We Were Soldiers (2002)  best war films    0.99400         1\n",
              "5238399     5152  We Were Soldiers (2002)             war    0.98700         2\n",
              "5238383     5152  We Were Soldiers (2002)     vietnam war    0.97525         3\n",
              "5238400     5152  We Were Soldiers (2002)       war movie    0.97150         4\n",
              "5237563     5152  We Were Soldiers (2002)         courage    0.92150         5\n",
              "5238382     5152  We Were Soldiers (2002)         vietnam    0.91600         6\n",
              "5237954     5152  We Were Soldiers (2002)        military    0.90800         7\n",
              "5237673     5152  We Were Soldiers (2002)         factual    0.87375         8\n",
              "5238173     5152  We Were Soldiers (2002)       sacrifice    0.85300         9\n",
              "5237595     5152  We Were Soldiers (2002)           death    0.83250        10"
            ],
            "text/html": [
              "<div>\n",
              "<style scoped>\n",
              "    .dataframe tbody tr th:only-of-type {\n",
              "        vertical-align: middle;\n",
              "    }\n",
              "\n",
              "    .dataframe tbody tr th {\n",
              "        vertical-align: top;\n",
              "    }\n",
              "\n",
              "    .dataframe thead th {\n",
              "        text-align: right;\n",
              "    }\n",
              "</style>\n",
              "<table border=\"1\" class=\"dataframe\">\n",
              "  <thead>\n",
              "    <tr style=\"text-align: right;\">\n",
              "      <th></th>\n",
              "      <th>movieId</th>\n",
              "      <th>title</th>\n",
              "      <th>tag</th>\n",
              "      <th>relevance</th>\n",
              "      <th>tag_rank</th>\n",
              "    </tr>\n",
              "  </thead>\n",
              "  <tbody>\n",
              "    <tr>\n",
              "      <th>5237430</th>\n",
              "      <td>5152</td>\n",
              "      <td>We Were Soldiers (2002)</td>\n",
              "      <td>best war films</td>\n",
              "      <td>0.99400</td>\n",
              "      <td>1</td>\n",
              "    </tr>\n",
              "    <tr>\n",
              "      <th>5238399</th>\n",
              "      <td>5152</td>\n",
              "      <td>We Were Soldiers (2002)</td>\n",
              "      <td>war</td>\n",
              "      <td>0.98700</td>\n",
              "      <td>2</td>\n",
              "    </tr>\n",
              "    <tr>\n",
              "      <th>5238383</th>\n",
              "      <td>5152</td>\n",
              "      <td>We Were Soldiers (2002)</td>\n",
              "      <td>vietnam war</td>\n",
              "      <td>0.97525</td>\n",
              "      <td>3</td>\n",
              "    </tr>\n",
              "    <tr>\n",
              "      <th>5238400</th>\n",
              "      <td>5152</td>\n",
              "      <td>We Were Soldiers (2002)</td>\n",
              "      <td>war movie</td>\n",
              "      <td>0.97150</td>\n",
              "      <td>4</td>\n",
              "    </tr>\n",
              "    <tr>\n",
              "      <th>5237563</th>\n",
              "      <td>5152</td>\n",
              "      <td>We Were Soldiers (2002)</td>\n",
              "      <td>courage</td>\n",
              "      <td>0.92150</td>\n",
              "      <td>5</td>\n",
              "    </tr>\n",
              "    <tr>\n",
              "      <th>5238382</th>\n",
              "      <td>5152</td>\n",
              "      <td>We Were Soldiers (2002)</td>\n",
              "      <td>vietnam</td>\n",
              "      <td>0.91600</td>\n",
              "      <td>6</td>\n",
              "    </tr>\n",
              "    <tr>\n",
              "      <th>5237954</th>\n",
              "      <td>5152</td>\n",
              "      <td>We Were Soldiers (2002)</td>\n",
              "      <td>military</td>\n",
              "      <td>0.90800</td>\n",
              "      <td>7</td>\n",
              "    </tr>\n",
              "    <tr>\n",
              "      <th>5237673</th>\n",
              "      <td>5152</td>\n",
              "      <td>We Were Soldiers (2002)</td>\n",
              "      <td>factual</td>\n",
              "      <td>0.87375</td>\n",
              "      <td>8</td>\n",
              "    </tr>\n",
              "    <tr>\n",
              "      <th>5238173</th>\n",
              "      <td>5152</td>\n",
              "      <td>We Were Soldiers (2002)</td>\n",
              "      <td>sacrifice</td>\n",
              "      <td>0.85300</td>\n",
              "      <td>9</td>\n",
              "    </tr>\n",
              "    <tr>\n",
              "      <th>5237595</th>\n",
              "      <td>5152</td>\n",
              "      <td>We Were Soldiers (2002)</td>\n",
              "      <td>death</td>\n",
              "      <td>0.83250</td>\n",
              "      <td>10</td>\n",
              "    </tr>\n",
              "  </tbody>\n",
              "</table>\n",
              "</div>"
            ]
          },
          "metadata": {
            "tags": []
          },
          "execution_count": 75
        }
      ]
    },
    {
      "cell_type": "markdown",
      "metadata": {
        "id": "4WYia8cPrwa4"
      },
      "source": [
        "The tags have been ranked per movie in descending order, with the most relevant at the top. The relevance score seems quiet accurate as they all describe what the movie entails, is based on and the message it delivered across. The next step is to determine the number of tags which can give sufficient information required to accurately predict movie rating that user will give and accurately recommend movies to the user."
      ]
    },
    {
      "cell_type": "code",
      "metadata": {
        "trusted": true,
        "id": "krpYYgddrwa4"
      },
      "source": [
        "genome_rank_agg = genre_tag_df.groupby('tag_rank')['relevance'].median().reset_index(name = 'relevance_median').head(100)\n",
        "genome_rank_agg['relevance_median_%_chg'] = genome_rank_agg['relevance_median'].pct_change()"
      ],
      "execution_count": null,
      "outputs": []
    },
    {
      "cell_type": "code",
      "metadata": {
        "trusted": true,
        "id": "7Ro8PcXErwa5",
        "outputId": "24bc4ed1-62e1-4f98-db84-8d9ee0aaa667"
      },
      "source": [
        "sns.lineplot(x=\"tag_rank\", y=\"relevance_median_%_chg\",\n",
        "             data = genome_rank_agg).set_title('Change in relevant scores')\n",
        "plt.xlabel('Tag rank')\n",
        "plt.ylabel('Relevance (change in median %)')\n",
        "plt.show()"
      ],
      "execution_count": null,
      "outputs": [
        {
          "output_type": "display_data",
          "data": {
            "text/plain": [
              "<Figure size 432x288 with 1 Axes>"
            ],
            "image/png": "[encoded data removed]"
          },
          "metadata": {
            "tags": []
          }
        }
      ]
    },
    {
      "cell_type": "markdown",
      "metadata": {
        "id": "EM2tcG5irwa5"
      },
      "source": [
        "The relevant scores stabalize at around rank 60, therefore the top 60 tags ranked according the their relevance score. The above figure was adopted from https://towardsdatascience.com/how-to-build-a-simple-movie-recommender-system-with-tags-b9ab5cb3b616. However, a collaborative based approach will be undertaken therefore these tags will not be used."
      ]
    },
    {
      "cell_type": "markdown",
      "metadata": {
        "id": "i1KYxTIWrwa5"
      },
      "source": [
        "<a id=\"pp\"></a>\n",
        "# 8. Feature Engineering"
      ]
    },
    {
      "cell_type": "markdown",
      "metadata": {
        "id": "Lu5pU1AXrwa5"
      },
      "source": [
        "A colaborative recommender system approach will be undertaken for this project.  The ratings of the unseen movies will be predicted using a library called Suprise. Surprise (Simple Python RecommendatIon System Engine) is a SciPy Toolkit that uses explicit rating data to create and evaluate colaborative recommender systems.\n",
        "\n",
        "Feature engineering is the process of using data techniques to select, extract and transform features from the data in order to accurately represent the underlying structure in a form that is easily interpreted by algorithms. It is done to improve the performance of ML algorithms. Surprise requires a reader object to be defined in order for it to be able to parse through the dataframe. The rating parameter has to be specified and the data must be loaded in a raw format. The dataframe must have three columns, corresponding to the 'user ids', the 'item ids' and the ratings in this order."
      ]
    },
    {
      "cell_type": "code",
      "metadata": {
        "trusted": true,
        "id": "pMvnVuaOrwa5"
      },
      "source": [
        "# Load reader and data in surprise friendly format\n",
        "reader = Reader(rating_scale=(0.5, 5))\n",
        "train2 = Dataset.load_from_df(train1[['userId', 'movieId', 'rating']], reader)"
      ],
      "execution_count": null,
      "outputs": []
    },
    {
      "cell_type": "markdown",
      "metadata": {
        "id": "Wyz5DGflrwa6"
      },
      "source": [
        "<a id=\"mod\"></a>\n",
        "# 9. Modelling"
      ]
    },
    {
      "cell_type": "markdown",
      "metadata": {
        "id": "0IuFXSV5rwa6"
      },
      "source": [
        "Surprise contains a vast catalogue of algorithms. For this exercise, the Baseline Only, Singular Value Decomposition (SVD) and CoClustering algorithms were explored. Root Mean Square Error (RMSE) was chosen as the performance metric. It measures the average magnitude of the error in the model by computing the differences between the predicted values and the actual values.\n",
        "\n",
        "The Baseline Only algorithm is a basic algorithm that predicts the baseline estimate for the given users and items. The algorithm is very simple and does not do any 'heavy' work but it is still useful for comparing accuracies with other models."
      ]
    },
    {
      "cell_type": "code",
      "metadata": {
        "trusted": true,
        "id": "pUzU9Bllrwa6"
      },
      "source": [
        "# Baseline Only model\n",
        "\n",
        "algo_b = BaselineOnly()\n",
        "\n",
        "trainset, testset = train_test_split(train2, test_size = 0.1)\n",
        "\n",
        "# train and test algorithm.\n",
        "algo_b.fit(trainset)\n",
        "predictions_b = algo_b.test(testset)\n",
        "\n",
        "# Compute and print Root Mean Squared Error\n",
        "accuracy.rmse(predictions_b, verbose=True)"
      ],
      "execution_count": null,
      "outputs": []
    },
    {
      "cell_type": "markdown",
      "metadata": {
        "id": "XHzqlrD-rwa7"
      },
      "source": [
        "SVD is a matrix factorization-based filtering algorithm that is equivalent to Probabilistic Matrix Factorization."
      ]
    },
    {
      "cell_type": "code",
      "metadata": {
        "trusted": true,
        "id": "vXcHpfourwa7"
      },
      "source": [
        "# SVD model\n",
        "\n",
        "algo_svd = SVD()\n",
        "\n",
        "trainset, testset = train_test_split(train2, test_size = 0.1)\n",
        "\n",
        "# train and test algorithm.\n",
        "algo_svd.fit(trainset)\n",
        "predictions_svd = algo_svd.test(testset)\n",
        "\n",
        "# Compute and print Root Mean Squared Error\n",
        "accuracy.rmse(predictions_svd, verbose=True)"
      ],
      "execution_count": null,
      "outputs": []
    },
    {
      "cell_type": "markdown",
      "metadata": {
        "id": "ZuSpUdEwrwa7"
      },
      "source": [
        "Co-clustering is another matrix factorization-based filtering algorithm built on the principle of co-clustering. It produces row and column clusters through simultaneously grouping objects and features in a matrix."
      ]
    },
    {
      "cell_type": "code",
      "metadata": {
        "trusted": true,
        "id": "qCeREqXxrwa7"
      },
      "source": [
        "# CoClustering model\n",
        "\n",
        "algo_cc = CoClustering()\n",
        "\n",
        "trainset, testset = train_test_split(train2, test_size = 0.1)\n",
        "\n",
        "# train and test algorithm.\n",
        "algo_cc.fit(trainset)\n",
        "predictions_cc = algo_cc.test(testset)\n",
        "\n",
        "# Compute and print Root Mean Squared Error\n",
        "accuracy.rmse(predictions_cc, verbose=True)"
      ],
      "execution_count": null,
      "outputs": []
    },
    {
      "cell_type": "markdown",
      "metadata": {
        "id": "Lr2RD5sqrwa7"
      },
      "source": [
        "NMF is a matrix factorization-based filtering algorithm based on Non-negative Matrix Factorization. It is similar to SVD."
      ]
    },
    {
      "cell_type": "code",
      "metadata": {
        "trusted": true,
        "id": "qdwof7Zarwa7"
      },
      "source": [
        "algo_nmf = NMF()\n",
        "\n",
        "trainset, testset = train_test_split(train2, test_size = 0.1)\n",
        "\n",
        "# train and test algorithm.\n",
        "algo_nmf.fit(trainset)\n",
        "predictions_nmf = algo_nmf.test(testset)\n",
        "\n",
        "# Compute and print Root Mean Squared Error\n",
        "accuracy.rmse(predictions_nmf, verbose=True)"
      ],
      "execution_count": null,
      "outputs": []
    },
    {
      "cell_type": "markdown",
      "metadata": {
        "id": "6F-7E_8Vrwa7"
      },
      "source": [
        "<a id=\"me\"></a>\n",
        "# 10. Model evaluation"
      ]
    },
    {
      "cell_type": "markdown",
      "metadata": {
        "id": "3Bx-smZtrwa7"
      },
      "source": [
        "To evaluate the performances of the selected algorithms, they can be visualised."
      ]
    },
    {
      "cell_type": "code",
      "metadata": {
        "trusted": true,
        "id": "8w1gULelrwa7"
      },
      "source": [
        "fig,axis = plt.subplots(figsize=(10, 6))\n",
        "x1 = ['Baseline Only', 'SVD', 'Co-Clustering', 'NMF']\n",
        "y1 = [0.8659, 0.8266, 0.8954 ,0.8791]\n",
        "g = sns.barplot(x= x1, y= y1)\n",
        "plt.title('RMSE Values',fontsize=15)\n",
        "plt.ylabel('RMSE')\n",
        "plt.xticks()\n",
        "plt.show()"
      ],
      "execution_count": null,
      "outputs": []
    },
    {
      "cell_type": "markdown",
      "metadata": {
        "id": "joGXuW0arwa8"
      },
      "source": [
        "Discussion of graph. These models were built on the default parameters of the algorithms and can be optimised through hyperparameter tuning. This will only be done for the SVD model as it is the best performing model.\n",
        "\n",
        "Hyperparameter tuning is a method used to improve the performances of models by selecting a set of hyperparameters to tune. Hyperparameters are parameters whose values can be controlled during the process of training a model. From previous work studied and knowledge of how the SVD model works, the hyperparameters n_factors, n_epochs, lr_all and reg_all were chosen for tuning."
      ]
    },
    {
      "cell_type": "code",
      "metadata": {
        "trusted": true,
        "id": "I5ZW3g7erwa8"
      },
      "source": [
        "algo_svd_hyp = SVD(n_factors= 150, n_epochs=75, lr_all=0.01, reg_all= 0.1)\n",
        "\n",
        "trainset, testset = train_test_split(train1, test_size = 0.1)\n",
        "\n",
        "algo_svd_hyp.fit(trainset)\n",
        "predictions_hyp = algo_svd_hyp.test(testset)\n",
        "\n",
        "accuracy.rmse(predictions_hyp)"
      ],
      "execution_count": null,
      "outputs": []
    },
    {
      "cell_type": "markdown",
      "metadata": {
        "id": "BzKcq7sRrwa8"
      },
      "source": [
        "The default parameters for the SVD algorithm are very close to optimal. Hyperparameter tuning has improved the RMSE from 0.8266 to 0.8202, making a 0.77% difference. This hypertuned model will be used to make predictions on the unseen data."
      ]
    },
    {
      "cell_type": "code",
      "metadata": {
        "trusted": true,
        "id": "lxIE2SFErwa8"
      },
      "source": [
        "# Predict ratings on test data using best model SVD\n",
        "\n",
        "ratings = []\n",
        "\n",
        "for index, row in test.iterrows():\n",
        "    \n",
        "    ratings.append(algo_svd_hyp.predict(row.userId, row.movieId)[3])\n",
        "    \n",
        "    #print(rat)\n",
        "    \n",
        "df = pd.DataFrame(ratings,columns=['rating'])"
      ],
      "execution_count": null,
      "outputs": []
    },
    {
      "cell_type": "code",
      "metadata": {
        "trusted": true,
        "id": "JJ8ag7ekrwa8"
      },
      "source": [
        "results = pd.DataFrame({\"user\":test['userId'],\"rating\": df['rating']})"
      ],
      "execution_count": null,
      "outputs": []
    },
    {
      "cell_type": "code",
      "metadata": {
        "trusted": true,
        "id": "jDKleOVTrwa8"
      },
      "source": [
        "ss = ss.copy()\n",
        "ss['rating'] = results['rating']\n",
        "ss.to_csv(\"predictions\", index=False)"
      ],
      "execution_count": null,
      "outputs": []
    },
    {
      "cell_type": "code",
      "metadata": {
        "trusted": true,
        "id": "R01eI66krwa9"
      },
      "source": [
        "# Dictionary of data to be logged\n",
        "\n",
        "# params = {\"n_factors\": 150,\n",
        "            #\"n_epochs\":\"75\",\n",
        "            #\"lr_all\":\"0.01\",\n",
        "            #\"reg_all\":\"0.1\"}\n",
        "# metric = {\"RMSE\": xxxx}"
      ],
      "execution_count": null,
      "outputs": []
    },
    {
      "cell_type": "code",
      "metadata": {
        "trusted": true,
        "id": "L2a16hfRrwa9"
      },
      "source": [
        "#Log parameters and results\n",
        "# experiment.log_paramaters(params)\n",
        "# experiemnt.log_metrics(metrics)"
      ],
      "execution_count": null,
      "outputs": []
    },
    {
      "cell_type": "markdown",
      "metadata": {
        "id": "v0CcQcHsrwa9"
      },
      "source": [
        "<a id=\"conc\"></a>\n",
        "# 11. Conclusion"
      ]
    },
    {
      "cell_type": "markdown",
      "metadata": {
        "id": "cn__S4jQrwa9"
      },
      "source": [
        "Machien learning is a powerful tool that can be used for many applications including building a recommender system. Recommender systems are vital as they enhance a user's experience on a platform. They recommend content to the user based on their past activities or the activities of users with similar habits. The collaborative based approach was used for this exercise. The Baseline Only, Singular Value Decomposition (SVD) and CoClustering algorithms were explored with the SVD producing the best RMSE. Hyperparameter tuning was performed, however the difference in the RMSE was minmal. This highlights that the default parameters for the algorithm are close to optimal."
      ]
    },
    {
      "cell_type": "markdown",
      "metadata": {
        "id": "7GgF74Wzrwa9"
      },
      "source": [
        "<a id=\"ecomet\"></a>\n",
        "# 12. End Comet experiment"
      ]
    },
    {
      "cell_type": "code",
      "metadata": {
        "trusted": true,
        "id": "hqOc6hNarwa9"
      },
      "source": [
        "#experiment.end()"
      ],
      "execution_count": null,
      "outputs": []
    },
    {
      "cell_type": "code",
      "metadata": {
        "trusted": true,
        "id": "IYflEn7-rwa9"
      },
      "source": [
        "#experiment.display()"
      ],
      "execution_count": null,
      "outputs": []
    }
  ]
}